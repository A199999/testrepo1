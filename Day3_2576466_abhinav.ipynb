{
 "cells": [
  {
   "cell_type": "code",
   "execution_count": 15,
   "id": "c2304bbc",
   "metadata": {},
   "outputs": [
    {
     "name": "stdout",
     "output_type": "stream",
     "text": [
      "File copied successfully.\n"
     ]
    }
   ],
   "source": [
    "#question1\n",
    "def copy_file(source_file, destination_file):\n",
    "    try:\n",
    "        with open(source_file, 'rb') as src_file, open(destination_file, 'wb') as dest_file:\n",
    "            while True:\n",
    "                chunk = src_file.read(50)\n",
    "                if not chunk:\n",
    "                    break\n",
    "                dest_file.write(chunk)\n",
    "        print(\"File copied successfully.\")\n",
    "    except FileNotFoundError:\n",
    "        print(\"Source file not found.\")\n",
    "    except Exception as e:\n",
    "        print(f\"An error occurred: {e}\")\n",
    "\n",
    "source_file = 'source.txt'\n",
    "destination_file = 'destination.txt'\n",
    "copy_file(source_file, destination_file)\n"
   ]
  },
  {
   "cell_type": "code",
   "execution_count": 16,
   "id": "54a3ab6d",
   "metadata": {},
   "outputs": [
    {
     "name": "stdout",
     "output_type": "stream",
     "text": [
      "Numbers in the file: ['1', '23', '678']\n",
      "Number of blank spaces in the file: 77\n"
     ]
    }
   ],
   "source": [
    "#question2\n",
    "import re\n",
    "\n",
    "def extract_numbers_and_count_blanks(file_path):\n",
    "    try:\n",
    "        with open(file_path, 'r') as file:\n",
    "            text = file.read()\n",
    "            numbers = re.findall(r'\\d+', text)\n",
    "            blank_space_count = text.count(' ')\n",
    "            \n",
    "            print(\"Numbers in the file:\", numbers)\n",
    "            print(\"Number of blank spaces in the file:\", blank_space_count)\n",
    "    except FileNotFoundError:\n",
    "        print(\"File not found.\")\n",
    "    except Exception as e:\n",
    "        print(f\"An error occurred: {e}\")\n",
    "file_path = 'sample.txt' \n",
    "extract_numbers_and_count_blanks(file_path)\n"
   ]
  },
  {
   "cell_type": "code",
   "execution_count": 17,
   "id": "c674d917",
   "metadata": {},
   "outputs": [
    {
     "name": "stdout",
     "output_type": "stream",
     "text": [
      "File 'input.txt' has been processed and saved as 'output.txt'.\n"
     ]
    }
   ],
   "source": [
    "#question3\n",
    "def sed(pattern, replacement, input_file, output_file):\n",
    "    try:\n",
    "        with open(input_file, 'r') as file:\n",
    "            content = file.read()\n",
    "        new_content = content.replace(pattern, replacement)\n",
    "        with open(output_file, 'w') as file:\n",
    "            file.write(new_content)\n",
    "\n",
    "        print(f\"File '{input_file}' has been processed and saved as '{output_file}'.\")\n",
    "    \n",
    "    except Exception as e:\n",
    "        print(f\"An error occurred: {str(e)}\")\n",
    "pattern = \"old_pattern\"\n",
    "replacement = \"new_pattern\"\n",
    "input_filename = \"input.txt\"\n",
    "output_filename = \"output.txt\"\n",
    "\n",
    "sed(pattern, replacement, input_filename, output_filename)"
   ]
  },
  {
   "cell_type": "code",
   "execution_count": 25,
   "id": "9efece77",
   "metadata": {},
   "outputs": [
    {
     "name": "stdout",
     "output_type": "stream",
     "text": [
      "An error occurred: not enough values to unpack (expected 3, got 1)\n"
     ]
    }
   ],
   "source": [
    "#question4\n",
    "from collections import defaultdict\n",
    "import operator\n",
    "def analyze_log_file(file_path):\n",
    "    try:\n",
    "        unique_users = set()\n",
    "        action_counts = defaultdict(int)\n",
    "\n",
    "        with open(file_path, 'r') as file:\n",
    "            for line in file:\n",
    "                timestamp, user_id, action = line.strip().split(',')\n",
    "                unique_users.add(user_id)\n",
    "                action_counts[action] += 1\n",
    "        most_common_action = max(action_counts.items(), key=operator.itemgetter(1))\n",
    "        print(\"Number of unique users:\", len(unique_users))\n",
    "        print(\"Most common action:\", most_common_action)\n",
    "\n",
    "    except FileNotFoundError:\n",
    "        print(\"File not found.\")\n",
    "    except Exception as e:\n",
    "        print(f\"An error occurred: {e}\")\n",
    "file_path = 'log_file.csv' \n",
    "analyze_log_file(file_path)\n"
   ]
  },
  {
   "cell_type": "code",
   "execution_count": 20,
   "id": "b9fee77e",
   "metadata": {},
   "outputs": [
    {
     "name": "stdout",
     "output_type": "stream",
     "text": [
      "Text replaced successfully.\n"
     ]
    }
   ],
   "source": [
    "#question 5a\n",
    "def search_replace_in_file(file_path, search_term, replacement):\n",
    "    try:\n",
    "        with open(file_path, 'r') as file:\n",
    "            file_content = file.read()\n",
    "        updated_content = file_content.replace(search_term, replacement)\n",
    "        with open(file_path, 'w') as file:\n",
    "            file.write(updated_content)\n",
    "\n",
    "        print(\"Text replaced successfully.\")\n",
    "\n",
    "    except FileNotFoundError:\n",
    "        print(\"File not found.\")\n",
    "    except Exception as e:\n",
    "        print(f\"An error occurred: {e}\")\n",
    "file_path = 'text_file.txt'\n",
    "search_term = 'old_text'\n",
    "replacement = 'new_text'\n",
    "search_replace_in_file(file_path, search_term, replacement)\n"
   ]
  },
  {
   "cell_type": "code",
   "execution_count": 8,
   "id": "88fa3e74",
   "metadata": {},
   "outputs": [
    {
     "name": "stdout",
     "output_type": "stream",
     "text": [
      "Multiple replacements completed successfully.\n"
     ]
    }
   ],
   "source": [
    "#question 5b\n",
    "def multiple_search_replace_in_file(file_path, replacement_rules):\n",
    "    try:\n",
    "        with open(file_path, 'r') as file:\n",
    "            file_content = file.read()\n",
    "        for search_term, replacement in replacement_rules:\n",
    "            file_content = file_content.replace(search_term, replacement)\n",
    "        with open(file_path, 'w') as file:\n",
    "            file.write(file_content)\n",
    "\n",
    "        print(\"Multiple replacements completed successfully.\")\n",
    "\n",
    "    except FileNotFoundError:\n",
    "        print(\"File not found.\")\n",
    "    except Exception as e:\n",
    "        print(f\"An error occurred: {e}\")\n",
    "file_path = 'text_file.txt'\n",
    "replacement_rules = [('old_text1', 'new_text1'), ('old_text2', 'new_text2')]\n",
    "multiple_search_replace_in_file(file_path, replacement_rules)\n"
   ]
  },
  {
   "cell_type": "code",
   "execution_count": null,
   "id": "d7ef97c8",
   "metadata": {},
   "outputs": [],
   "source": [
    "\n"
   ]
  },
  {
   "cell_type": "code",
   "execution_count": 11,
   "id": "63652009",
   "metadata": {},
   "outputs": [
    {
     "name": "stdout",
     "output_type": "stream",
     "text": [
      "Enter the path of an input text file (or press Enter to finish): input1.txt\n",
      "Enter the path of an input text file (or press Enter to finish): input2.txt\n",
      "Enter the path of an input text file (or press Enter to finish): input3.txt\n",
      "Enter the path of an input text file (or press Enter to finish): \n",
      "Enter the path of the output text file: path/to/output.txt\n",
      "One or more input files not found.\n"
     ]
    }
   ],
   "source": [
    "#question6\n",
    "def concatenate_files(input_files, output_file):\n",
    "    try:\n",
    "        with open(output_file, 'w') as output:\n",
    "            for input_file in input_files:\n",
    "                with open(input_file, 'r') as input:\n",
    "                    output.write(input.read())\n",
    "        print(\"Files concatenated successfully.\")\n",
    "    except FileNotFoundError:\n",
    "        print(\"One or more input files not found.\")\n",
    "    except Exception as e:\n",
    "        print(f\"An error occurred: {e}\")\n",
    "\n",
    "def main():\n",
    "    input_files = []\n",
    "    while True:\n",
    "        input_file = input(\"Enter the path of an input text file (or press Enter to finish): \").strip()\n",
    "        if not input_file:\n",
    "            break\n",
    "        input_files.append(input_file)\n",
    "\n",
    "    if not input_files:\n",
    "        print(\"No input files provided.\")\n",
    "        return\n",
    "\n",
    "    output_file = input(\"Enter the path of the output text file: \").strip()\n",
    "\n",
    "    if not output_file:\n",
    "        print(\"Output file path not provided.\")\n",
    "        return\n",
    "\n",
    "    concatenate_files(input_files, output_file)\n",
    "\n",
    "if __name__ == \"__main__\":\n",
    "    main()\n"
   ]
  },
  {
   "cell_type": "code",
   "execution_count": 12,
   "id": "ac156b69",
   "metadata": {},
   "outputs": [
    {
     "name": "stdout",
     "output_type": "stream",
     "text": [
      "Word-length dictionary written to output.txt successfully.\n"
     ]
    }
   ],
   "source": [
    "#question7\n",
    "def create_word_length_dictionary(input_file, output_file):\n",
    "    try:\n",
    "        word_length_dict = {}\n",
    "\n",
    "        with open(input_file, 'r') as infile:\n",
    "            lines = infile.readlines()\n",
    "            for line in lines:\n",
    "                word = line.strip()\n",
    "                word_length = len(word)\n",
    "                word_length_dict[word] = word_length\n",
    "\n",
    "        with open(output_file, 'w') as outfile:\n",
    "            for word, length in word_length_dict.items():\n",
    "                outfile.write(f\"{word}: {length}\\n\")\n",
    "\n",
    "        print(\"Word-length dictionary written to output.txt successfully.\")\n",
    "\n",
    "    except FileNotFoundError:\n",
    "        print(\"Input file not found.\")\n",
    "    except Exception as e:\n",
    "        print(f\"An error occurred: {e}\")\n",
    "input_file = 'input.txt'\n",
    "output_file = 'output.txt'\n",
    "create_word_length_dictionary(input_file, output_file)\n"
   ]
  },
  {
   "cell_type": "code",
   "execution_count": 13,
   "id": "987875f7",
   "metadata": {},
   "outputs": [
    {
     "name": "stdout",
     "output_type": "stream",
     "text": [
      "Student Gradebook System\n",
      "1. Input Grades\n",
      "2. View Grades\n",
      "3. Quit\n",
      "Enter your choice (1/2/3): 1\n",
      "Enter the subject: maths\n",
      "Enter student name (or press Enter to finish): abhi\n",
      "Enter grade for abhi: 9\n",
      "Enter student name (or press Enter to finish): \n",
      "Grades for maths recorded successfully.\n",
      "Student Gradebook System\n",
      "1. Input Grades\n",
      "2. View Grades\n",
      "3. Quit\n",
      "Enter your choice (1/2/3): 3\n",
      "Goodbye!\n"
     ]
    }
   ],
   "source": [
    "#question8\n",
    "import os\n",
    "\n",
    "def input_grades(subject, grades):\n",
    "    try:\n",
    "        with open(f'{subject}.txt', 'a') as file:\n",
    "            for student, grade in grades.items():\n",
    "                file.write(f'{student}: {grade}\\n')\n",
    "        print(f'Grades for {subject} recorded successfully.')\n",
    "\n",
    "    except PermissionError:\n",
    "        print(\"Permission denied: You don't have permission to write to the file.\")\n",
    "    except Exception as e:\n",
    "        print(f\"An error occurred: {e}\")\n",
    "\n",
    "def view_grades(subject):\n",
    "    try:\n",
    "        with open(f'{subject}.txt', 'r') as file:\n",
    "            print(f'Grades for {subject}:')\n",
    "            print(file.read())\n",
    "\n",
    "    except FileNotFoundError:\n",
    "        print(f'Grades for {subject} not found.')\n",
    "    except Exception as e:\n",
    "        print(f\"An error occurred: {e}\")\n",
    "\n",
    "def main():\n",
    "    while True:\n",
    "        print(\"Student Gradebook System\")\n",
    "        print(\"1. Input Grades\")\n",
    "        print(\"2. View Grades\")\n",
    "        print(\"3. Quit\")\n",
    "\n",
    "        choice = input(\"Enter your choice (1/2/3): \")\n",
    "\n",
    "        if choice == '1':\n",
    "            subject = input(\"Enter the subject: \")\n",
    "            grades = {}\n",
    "            while True:\n",
    "                student = input(\"Enter student name (or press Enter to finish): \").strip()\n",
    "                if not student:\n",
    "                    break\n",
    "                try:\n",
    "                    grade = float(input(f\"Enter grade for {student}: \"))\n",
    "                    grades[student] = grade\n",
    "                except ValueError:\n",
    "                    print(\"Invalid grade. Please enter a numeric value.\")\n",
    "\n",
    "            input_grades(subject, grades)\n",
    "\n",
    "        elif choice == '2':\n",
    "            subject = input(\"Enter the subject to view grades: \")\n",
    "            view_grades(subject)\n",
    "\n",
    "        elif choice == '3':\n",
    "            print(\"Goodbye!\")\n",
    "            break\n",
    "\n",
    "        else:\n",
    "            print(\"Invalid choice. Please enter 1, 2, or 3.\")\n",
    "\n",
    "if __name__ == \"__main__\":\n",
    "    main()\n"
   ]
  },
  {
   "cell_type": "code",
   "execution_count": null,
   "id": "1668f0be",
   "metadata": {},
   "outputs": [],
   "source": []
  }
 ],
 "metadata": {
  "kernelspec": {
   "display_name": "Python 3 (ipykernel)",
   "language": "python",
   "name": "python3"
  },
  "language_info": {
   "codemirror_mode": {
    "name": "ipython",
    "version": 3
   },
   "file_extension": ".py",
   "mimetype": "text/x-python",
   "name": "python",
   "nbconvert_exporter": "python",
   "pygments_lexer": "ipython3",
   "version": "3.11.4"
  }
 },
 "nbformat": 4,
 "nbformat_minor": 5
}
