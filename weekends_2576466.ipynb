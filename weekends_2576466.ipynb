{
 "cells": [
  {
   "cell_type": "code",
   "execution_count": 1,
   "id": "a45d3a28",
   "metadata": {},
   "outputs": [
    {
     "name": "stdout",
     "output_type": "stream",
     "text": [
      "An unexpected error occurred: name 'product_id' is not defined\n"
     ]
    }
   ],
   "source": [
    "try:\n",
    "    if product_id not in product_catalog:\n",
    "        raise ValueError(\"Product ID not found in the catalog\")\n",
    "    \n",
    "    if not isinstance(quantity, int) or quantity < 1:\n",
    "        raise ValueError(\"Invalid quantity. Please enter a positive integer.\")\n",
    "    \n",
    "    # Add the item to the cart\n",
    "    cart.add_item(product_id, quantity)\n",
    "    print(\"Item added to the cart successfully.\")\n",
    "except ValueError as ve:\n",
    "    print(f\"Error: {ve}\")\n",
    "except Exception as e:\n",
    "    print(f\"An unexpected error occurred: {e}\")\n"
   ]
  },
  {
   "cell_type": "code",
   "execution_count": 2,
   "id": "16628209",
   "metadata": {},
   "outputs": [
    {
     "name": "stdout",
     "output_type": "stream",
     "text": [
      "An unexpected error occurred: name 'cart' is not defined\n"
     ]
    }
   ],
   "source": [
    "try:\n",
    "    if cart.is_empty():\n",
    "        print(\"Your cart is empty.\")\n",
    "    else:\n",
    "        cart.display_cart()\n",
    "except Exception as e:\n",
    "    print(f\"An unexpected error occurred: {e}\")\n"
   ]
  },
  {
   "cell_type": "code",
   "execution_count": 3,
   "id": "88d9294a",
   "metadata": {},
   "outputs": [
    {
     "ename": "SyntaxError",
     "evalue": "incomplete input (2712113173.py, line 20)",
     "output_type": "error",
     "traceback": [
      "\u001b[1;36m  Cell \u001b[1;32mIn[3], line 20\u001b[1;36m\u001b[0m\n\u001b[1;33m    # Perform cleanup or logging if needed\u001b[0m\n\u001b[1;37m                                          ^\u001b[0m\n\u001b[1;31mSyntaxError\u001b[0m\u001b[1;31m:\u001b[0m incomplete input\n"
     ]
    }
   ],
   "source": [
    "try:\n",
    "    # Code to validate the cart and process payment\n",
    "    if not cart.validate():\n",
    "        raise ValueError(\"Cart validation failed. Please check your items.\")\n",
    "    \n",
    "    if not payment_gateway.is_available():\n",
    "        raise ValueError(\"Payment gateway is not available at the moment.\")\n",
    "    \n",
    "    if not customer.process_payment():\n",
    "        raise ValueError(\"Payment was declined. Please try a different payment method.\")\n",
    "    \n",
    "    # Process the order and complete the checkout\n",
    "    cart.process_order()\n",
    "    print(\"Checkout successful.\")\n",
    "except ValueError as ve:\n",
    "    print(f\"Error: {ve}\")\n",
    "except Exception as e:\n",
    "    print(f\"An unexpected error occurred: {e}\")\n",
    "finally:\n",
    "    # Perform cleanup or logging if needed\n"
   ]
  },
  {
   "cell_type": "code",
   "execution_count": 4,
   "id": "ebddfa1e",
   "metadata": {},
   "outputs": [
    {
     "name": "stdout",
     "output_type": "stream",
     "text": [
      "Listen and Silent are anagrams.\n"
     ]
    }
   ],
   "source": [
    "def are_anagrams(str1, str2):\n",
    "    # Remove spaces and convert to lowercase to make the comparison case-insensitive\n",
    "    str1 = str1.replace(\" \", \"\").lower()\n",
    "    str2 = str2.replace(\" \", \"\").lower()\n",
    "    \n",
    "    # Check if the sorted versions of the strings are equal\n",
    "    return sorted(str1) == sorted(str2)\n",
    "\n",
    "# Example usage:\n",
    "string1 = \"Listen\"\n",
    "string2 = \"Silent\"\n",
    "result = are_anagrams(string1, string2)\n",
    "if result:\n",
    "    print(f\"{string1} and {string2} are anagrams.\")\n",
    "else:\n",
    "    print(f\"{string1} and {string2} are not anagrams.\")\n"
   ]
  },
  {
   "cell_type": "code",
   "execution_count": 8,
   "id": "f4efae37",
   "metadata": {},
   "outputs": [
    {
     "ename": "ImportError",
     "evalue": "cannot import name 'Customer' from 'your_database_module' (unknown location)",
     "output_type": "error",
     "traceback": [
      "\u001b[1;31m---------------------------------------------------------------------------\u001b[0m",
      "\u001b[1;31mImportError\u001b[0m                               Traceback (most recent call last)",
      "Cell \u001b[1;32mIn[8], line 2\u001b[0m\n\u001b[0;32m      1\u001b[0m \u001b[38;5;28;01mfrom\u001b[39;00m \u001b[38;5;21;01msqlalchemy\u001b[39;00m\u001b[38;5;21;01m.\u001b[39;00m\u001b[38;5;21;01mexc\u001b[39;00m \u001b[38;5;28;01mimport\u001b[39;00m IntegrityError, SQLAlchemyError\n\u001b[1;32m----> 2\u001b[0m \u001b[38;5;28;01mfrom\u001b[39;00m \u001b[38;5;21;01myour_database_module\u001b[39;00m \u001b[38;5;28;01mimport\u001b[39;00m Customer, create_session\n\u001b[0;32m      4\u001b[0m \u001b[38;5;28;01mdef\u001b[39;00m \u001b[38;5;21mregister_customer\u001b[39m(name, email, password):\n\u001b[0;32m      5\u001b[0m     \u001b[38;5;28;01mtry\u001b[39;00m:\n",
      "\u001b[1;31mImportError\u001b[0m: cannot import name 'Customer' from 'your_database_module' (unknown location)"
     ]
    }
   ],
   "source": [
    "from sqlalchemy.exc import IntegrityError, SQLAlchemyError\n",
    "from your_database_module import Customer, create_session\n",
    "\n",
    "def register_customer(name, email, password):\n",
    "    try:\n",
    "        session = create_session()\n",
    "        \n",
    "        # Check for duplicate email addresses\n",
    "        if session.query(Customer).filter_by(email=email).first():\n",
    "            raise ValueError(\"Email address already exists.\")\n",
    "        \n",
    "        # Store customer information in the database\n",
    "        new_customer = Customer(name=name, email=email, password=password)\n",
    "        session.add(new_customer)\n",
    "        session.commit()\n",
    "        \n",
    "        print(\"Registration successful.\")\n",
    "    except IntegrityError:\n",
    "        session.rollback()\n",
    "        print(\"Database integrity error. Registration failed.\")\n",
    "    except SQLAlchemyError:\n",
    "        print(\"Database connection error. Registration failed.\")\n",
    "    finally:\n",
    "        session.close()\n",
    "\n",
    "# Example usage:\n",
    "register_customer(\"John Doe\", \"john@example.com\", \"password123\")\n"
   ]
  },
  {
   "cell_type": "code",
   "execution_count": 6,
   "id": "695846c6",
   "metadata": {},
   "outputs": [
    {
     "ename": "ModuleNotFoundError",
     "evalue": "No module named 'your_database_module'",
     "output_type": "error",
     "traceback": [
      "\u001b[1;31m---------------------------------------------------------------------------\u001b[0m",
      "\u001b[1;31mModuleNotFoundError\u001b[0m                       Traceback (most recent call last)",
      "Cell \u001b[1;32mIn[6], line 2\u001b[0m\n\u001b[0;32m      1\u001b[0m \u001b[38;5;28;01mfrom\u001b[39;00m \u001b[38;5;21;01msqlalchemy\u001b[39;00m\u001b[38;5;21;01m.\u001b[39;00m\u001b[38;5;21;01mexc\u001b[39;00m \u001b[38;5;28;01mimport\u001b[39;00m SQLAlchemyError\n\u001b[1;32m----> 2\u001b[0m \u001b[38;5;28;01mfrom\u001b[39;00m \u001b[38;5;21;01myour_database_module\u001b[39;00m \u001b[38;5;28;01mimport\u001b[39;00m Book, create_session\n\u001b[0;32m      4\u001b[0m \u001b[38;5;28;01mdef\u001b[39;00m \u001b[38;5;21madd_book_to_inventory\u001b[39m(title, author, price, stock):\n\u001b[0;32m      5\u001b[0m     \u001b[38;5;28;01mtry\u001b[39;00m:\n",
      "\u001b[1;31mModuleNotFoundError\u001b[0m: No module named 'your_database_module'"
     ]
    }
   ],
   "source": [
    "from sqlalchemy.exc import SQLAlchemyError\n",
    "from your_database_module import Book, create_session\n",
    "\n",
    "def add_book_to_inventory(title, author, price, stock):\n",
    "    try:\n",
    "        session = create_session()\n",
    "        \n",
    "        # Add a new book to the inventory\n",
    "        new_book = Book(title=title, author=author, price=price, stock=stock)\n",
    "        session.add(new_book)\n",
    "        session.commit()\n",
    "        \n",
    "        print(\"Book added to inventory successfully.\")\n",
    "    except SQLAlchemyError:\n",
    "        session.rollback()\n",
    "        print(\"Database error. Book addition failed.\")\n",
    "    finally:\n",
    "        session.close()\n",
    "\n",
    "# Example usage:\n",
    "add_book_to_inventory(\"The Great Gatsby\", \"F. Scott Fitzgerald\", 15.99, 100)\n"
   ]
  },
  {
   "cell_type": "code",
   "execution_count": 9,
   "id": "c5dc3bad",
   "metadata": {},
   "outputs": [
    {
     "ename": "ImportError",
     "evalue": "cannot import name 'Order' from 'your_database_module' (unknown location)",
     "output_type": "error",
     "traceback": [
      "\u001b[1;31m---------------------------------------------------------------------------\u001b[0m",
      "\u001b[1;31mImportError\u001b[0m                               Traceback (most recent call last)",
      "Cell \u001b[1;32mIn[9], line 2\u001b[0m\n\u001b[0;32m      1\u001b[0m \u001b[38;5;28;01mfrom\u001b[39;00m \u001b[38;5;21;01msqlalchemy\u001b[39;00m\u001b[38;5;21;01m.\u001b[39;00m\u001b[38;5;21;01mexc\u001b[39;00m \u001b[38;5;28;01mimport\u001b[39;00m SQLAlchemyError\n\u001b[1;32m----> 2\u001b[0m \u001b[38;5;28;01mfrom\u001b[39;00m \u001b[38;5;21;01myour_database_module\u001b[39;00m \u001b[38;5;28;01mimport\u001b[39;00m Order, create_session\n\u001b[0;32m      4\u001b[0m \u001b[38;5;28;01mdef\u001b[39;00m \u001b[38;5;21mplace_order\u001b[39m(customer_id, books):\n\u001b[0;32m      5\u001b[0m     \u001b[38;5;28;01mtry\u001b[39;00m:\n",
      "\u001b[1;31mImportError\u001b[0m: cannot import name 'Order' from 'your_database_module' (unknown location)"
     ]
    }
   ],
   "source": [
    "from sqlalchemy.exc import SQLAlchemyError\n",
    "from your_database_module import Order, create_session\n",
    "\n",
    "def place_order(customer_id, books):\n",
    "    try:\n",
    "        session = create_session()\n",
    "        \n",
    "        # Check for sufficient stock of books\n",
    "        for book_id, quantity in books.items():\n",
    "            book = session.query(Book).get(book_id)\n",
    "            if book is None or book.stock < quantity:\n",
    "                raise ValueError(f\"Insufficient stock for book with ID {book_id}.\")\n",
    "        \n",
    "        # Record the order in the database\n",
    "        new_order = Order(customer_id=customer_id, books=books)\n",
    "        session.add(new_order)\n",
    "        \n",
    "        # Update the book inventory (reduce stock)\n",
    "        for book_id, quantity in books.items():\n",
    "            book = session.query(Book).get(book_id)\n",
    "            book.stock -= quantity\n",
    "        \n",
    "        session.commit()\n",
    "        print(\"Order placed successfully.\")\n",
    "    except ValueError as ve:\n",
    "        print(f\"Order placement failed: {ve}\")\n",
    "    except SQLAlchemyError:\n",
    "        session.rollback()\n",
    "        print(\"Database error. Order placement failed.\")\n",
    "    finally:\n",
    "        session.close()\n",
    "\n",
    "# Example usage:\n",
    "place_order(1, {1: 2, 2: 1})  # Assuming customer ID is 1 and books 1 and 2 are in the order.\n"
   ]
  },
  {
   "cell_type": "code",
   "execution_count": 11,
   "id": "712963a5",
   "metadata": {},
   "outputs": [
    {
     "ename": "ImportError",
     "evalue": "cannot import name 'Order' from 'your_database_module' (unknown location)",
     "output_type": "error",
     "traceback": [
      "\u001b[1;31m---------------------------------------------------------------------------\u001b[0m",
      "\u001b[1;31mImportError\u001b[0m                               Traceback (most recent call last)",
      "Cell \u001b[1;32mIn[11], line 2\u001b[0m\n\u001b[0;32m      1\u001b[0m \u001b[38;5;28;01mfrom\u001b[39;00m \u001b[38;5;21;01msqlalchemy\u001b[39;00m\u001b[38;5;21;01m.\u001b[39;00m\u001b[38;5;21;01mexc\u001b[39;00m \u001b[38;5;28;01mimport\u001b[39;00m SQLAlchemyError\n\u001b[1;32m----> 2\u001b[0m \u001b[38;5;28;01mfrom\u001b[39;00m \u001b[38;5;21;01myour_database_module\u001b[39;00m \u001b[38;5;28;01mimport\u001b[39;00m Order, create_session\n\u001b[0;32m      4\u001b[0m \u001b[38;5;28;01mdef\u001b[39;00m \u001b[38;5;21mget_order_history\u001b[39m(customer_id):\n\u001b[0;32m      5\u001b[0m     \u001b[38;5;28;01mtry\u001b[39;00m:\n",
      "\u001b[1;31mImportError\u001b[0m: cannot import name 'Order' from 'your_database_module' (unknown location)"
     ]
    }
   ],
   "source": [
    "from sqlalchemy.exc import SQLAlchemyError\n",
    "from your_database_module import Order, create_session\n",
    "\n",
    "def get_order_history(customer_id):\n",
    "    try:\n",
    "        session = create_session()\n",
    "        \n",
    "        # Retrieve the order history for the customer\n",
    "        orders = session.query(Order).filter_by(customer_id=customer_id).all()\n",
    "        \n",
    "        if not orders:\n",
    "            raise ValueError(\"No orders found for the customer.\")\n",
    "        \n",
    "        for order in orders:\n",
    "            print(f\"Order ID: {order.id}, Date: {order.date}, Books: {order.books}\")\n",
    "    except ValueError as ve:\n",
    "        print(f\"Order history retrieval failed: {ve}\")\n",
    "    except SQLAlchemyError:\n",
    "        print(\"Database error. Order history retrieval failed.\")\n",
    "    finally:\n",
    "        session.close()\n",
    "\n",
    "# Example usage:\n",
    "get_order_history(1)  # Assuming customer ID is 1.\n"
   ]
  },
  {
   "cell_type": "code",
   "execution_count": null,
   "id": "2f36e108",
   "metadata": {},
   "outputs": [],
   "source": []
  }
 ],
 "metadata": {
  "kernelspec": {
   "display_name": "Python 3 (ipykernel)",
   "language": "python",
   "name": "python3"
  },
  "language_info": {
   "codemirror_mode": {
    "name": "ipython",
    "version": 3
   },
   "file_extension": ".py",
   "mimetype": "text/x-python",
   "name": "python",
   "nbconvert_exporter": "python",
   "pygments_lexer": "ipython3",
   "version": "3.11.4"
  }
 },
 "nbformat": 4,
 "nbformat_minor": 5
}
