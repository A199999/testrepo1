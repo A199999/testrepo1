{
 "cells": [
  {
   "cell_type": "code",
   "execution_count": 1,
   "id": "7dde30cf",
   "metadata": {},
   "outputs": [
    {
     "name": "stdout",
     "output_type": "stream",
     "text": [
      "[4, 5, 1, 2, 3]\n"
     ]
    }
   ],
   "source": [
    "#control structure\n",
    "#16\n",
    "#with slicing\n",
    "def rotate_list_with_slicing(lst, n):\n",
    "    if not lst:\n",
    "        return lst\n",
    "\n",
    "    n = n % len(lst) \n",
    "    rotated_list = lst[-n:] + lst[:-n]\n",
    "    return rotated_list\n",
    "my_list = [1, 2, 3, 4, 5]\n",
    "n = 2\n",
    "rotated_list = rotate_list_with_slicing(my_list, n)\n",
    "print(rotated_list) \n"
   ]
  },
  {
   "cell_type": "code",
   "execution_count": 2,
   "id": "c5e32142",
   "metadata": {},
   "outputs": [
    {
     "name": "stdout",
     "output_type": "stream",
     "text": [
      "[4, 5, 1, 2, 3]\n"
     ]
    }
   ],
   "source": [
    "#without slicing\n",
    "def rotate_list_without_slicing(lst, n):\n",
    "    if not lst:\n",
    "        return lst\n",
    "\n",
    "    n = n % len(lst)  \n",
    "    rotated_list = []\n",
    "    for i in range(len(lst)):\n",
    "        new_index = (i - n) % len(lst)\n",
    "        rotated_list.append(lst[new_index])\n",
    "\n",
    "    return rotated_list\n",
    "\n",
    "my_list = [1, 2, 3, 4, 5]\n",
    "n = 2\n",
    "rotated_list = rotate_list_without_slicing(my_list, n)\n",
    "print(rotated_list) \n"
   ]
  },
  {
   "cell_type": "code",
   "execution_count": 4,
   "id": "dfa4cb9d",
   "metadata": {},
   "outputs": [
    {
     "name": "stdout",
     "output_type": "stream",
     "text": [
      "* \r\n",
      "* * \r\n",
      "* * * \r\n",
      "* * * * \r\n",
      "* * * * * \r\n"
     ]
    }
   ],
   "source": [
    "# star pattern\n",
    "n=5\n",
    "\n",
    "i=1;j=0\n",
    "while(i<=n):\n",
    "while(j<=i-1):\n",
    "print(\"* \",end=\"\")\n",
    "j+=1\n",
    "\n",
    "print(\"\\r\")\n",
    "j=0;i+=1\n",
    "\n"
   ]
  },
  {
   "cell_type": "code",
   "execution_count": 5,
   "id": "20e47e66",
   "metadata": {},
   "outputs": [
    {
     "ename": "IndentationError",
     "evalue": "expected an indented block after function definition on line 1 (2163427682.py, line 3)",
     "output_type": "error",
     "traceback": [
      "\u001b[1;36m  Cell \u001b[1;32mIn[5], line 3\u001b[1;36m\u001b[0m\n\u001b[1;33m    k = n - 1\u001b[0m\n\u001b[1;37m    ^\u001b[0m\n\u001b[1;31mIndentationError\u001b[0m\u001b[1;31m:\u001b[0m expected an indented block after function definition on line 1\n"
     ]
    }
   ],
   "source": [
    "def triangle(n):\n",
    "\n",
    "k = n - 1\n",
    "for i in range(0, n)\n",
    "for j in range(0, k):\n",
    "print(end=\" \")\n",
    "\n",
    "k = k - 1\n",
    "for j in range(0, i+1):\n",
    "print(\"* \", end=\"\")\n",
    "\n",
    "print(\"\\r\")\n",
    "\n",
    "n = 5\n",
    "triangle(n)\n"
   ]
  },
  {
   "cell_type": "code",
   "execution_count": 6,
   "id": "4b9df7df",
   "metadata": {},
   "outputs": [
    {
     "name": "stdout",
     "output_type": "stream",
     "text": [
      "    * \r\n",
      "   * * \r\n",
      "  * * * \r\n",
      " * * * * \r\n",
      "* * * * * \r\n"
     ]
    }
   ],
   "source": [
    "\n",
    "def triangle(n):\n",
    "\n",
    "k = n - 1\n",
    "for i in range(0, n):\n",
    "\n",
    "for j in range(0, k):\n",
    "print(end=\" \")\n",
    "k = k - 1\n",
    "for j in range(0, i+1):\n",
    "print(\"* \", end=\"\")\n",
    "print(\"\\r\")\n",
    "\n",
    "# Driver Code\n",
    "n = 5\n",
    "triangle(n)\n"
   ]
  },
  {
   "cell_type": "code",
   "execution_count": 7,
   "id": "cf758f29",
   "metadata": {},
   "outputs": [
    {
     "name": "stdout",
     "output_type": "stream",
     "text": [
      "1 \n",
      "1 2 \n",
      "1 3 9 \n",
      "1 4 16 64 \n",
      "1 5 25 125 625 \n",
      "1 6 36 216 1296 7776 \n"
     ]
    }
   ],
   "source": [
    "num_rows = 6\n",
    "for i in range(1, num_rows + 1):\n",
    "    for j in range(i):\n",
    "        print(i ** j, end=' ')\n",
    "    print() "
   ]
  },
  {
   "cell_type": "code",
   "execution_count": 8,
   "id": "07750816",
   "metadata": {},
   "outputs": [
    {
     "name": "stdout",
     "output_type": "stream",
     "text": [
      "P\n",
      "Py\n",
      "Pyt\n",
      "Pyth\n",
      "Pytho\n",
      "Python\n"
     ]
    }
   ],
   "source": [
    "word = \"Python\"\n",
    "for i in range(1, len(word) + 1):\n",
    "    print(word[:i])"
   ]
  },
  {
   "cell_type": "code",
   "execution_count": 10,
   "id": "02ba1aaf",
   "metadata": {},
   "outputs": [
    {
     "name": "stdout",
     "output_type": "stream",
     "text": [
      "John's weight on the Moon: 7.44 kg\n",
      "Shelly's weight on the Moon: 10.75 kg\n",
      "Marry's weight on the Moon: 5.79 kg\n"
     ]
    }
   ],
   "source": [
    "WeightOnEarth = {'John': 45, 'Shelly': 65, 'Marry': 35}\n",
    "GMoon = 1.622\n",
    "GEarth = 9.81\n",
    "calculate_weight_on_moon = lambda weight: (weight * GMoon) / GEarth\n",
    "weights_on_moon = dict(map(lambda item: (item[0], calculate_weight_on_moon(item[1])), WeightOnEarth.items()))\n",
    "for name, weight in weights_on_moon.items():\n",
    "    print(f\"{name}'s weight on the Moon: {weight:.2f} kg\")"
   ]
  },
  {
   "cell_type": "code",
   "execution_count": null,
   "id": "df75c4dc",
   "metadata": {},
   "outputs": [],
   "source": []
  }
 ],
 "metadata": {
  "kernelspec": {
   "display_name": "Python 3 (ipykernel)",
   "language": "python",
   "name": "python3"
  },
  "language_info": {
   "codemirror_mode": {
    "name": "ipython",
    "version": 3
   },
   "file_extension": ".py",
   "mimetype": "text/x-python",
   "name": "python",
   "nbconvert_exporter": "python",
   "pygments_lexer": "ipython3",
   "version": "3.11.4"
  }
 },
 "nbformat": 4,
 "nbformat_minor": 5
}
