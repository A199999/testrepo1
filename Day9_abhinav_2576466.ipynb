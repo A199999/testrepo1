{
 "cells": [
  {
   "cell_type": "code",
   "execution_count": 1,
   "id": "94a47ce1",
   "metadata": {},
   "outputs": [
    {
     "name": "stdout",
     "output_type": "stream",
     "text": [
      "[[[0.3383768  0.50103303 0.08532973]\n",
      "  [0.37715546 0.66927746 0.56321675]\n",
      "  [0.87326186 0.61573032 0.10021944]]\n",
      "\n",
      " [[0.44521196 0.63082208 0.86432305]\n",
      "  [0.72520409 0.11337977 0.77521262]\n",
      "  [0.58604413 0.89357113 0.47538658]]\n",
      "\n",
      " [[0.89311216 0.72524529 0.30788068]\n",
      "  [0.11035892 0.79476895 0.41264245]\n",
      "  [0.35277907 0.53286753 0.36657973]]]\n"
     ]
    }
   ],
   "source": [
    "import numpy as np\n",
    "\n",
    "random_array = np.random.rand(3, 3, 3)\n",
    "\n",
    "print(random_array)\n"
   ]
  },
  {
   "cell_type": "code",
   "execution_count": 2,
   "id": "c6e782cc",
   "metadata": {},
   "outputs": [
    {
     "name": "stdout",
     "output_type": "stream",
     "text": [
      "[[0. 0. 0. 0. 0.]\n",
      " [1. 0. 0. 0. 0.]\n",
      " [0. 2. 0. 0. 0.]\n",
      " [0. 0. 3. 0. 0.]\n",
      " [0. 0. 0. 4. 0.]]\n"
     ]
    }
   ],
   "source": [
    "import numpy as np\n",
    "\n",
    "# Create a 5x5 matrix filled with zeros\n",
    "matrix = np.zeros((5, 5))\n",
    "\n",
    "# Fill the values 1, 2, 3, 4 just below the diagonal\n",
    "np.fill_diagonal(matrix[1:], [1, 2, 3, 4])\n",
    "\n",
    "print(matrix)\n"
   ]
  },
  {
   "cell_type": "code",
   "execution_count": 3,
   "id": "79cd3d58",
   "metadata": {},
   "outputs": [
    {
     "name": "stdout",
     "output_type": "stream",
     "text": [
      "[[0 1 0 1 0 1 0 1]\n",
      " [1 0 1 0 1 0 1 0]\n",
      " [0 1 0 1 0 1 0 1]\n",
      " [1 0 1 0 1 0 1 0]\n",
      " [0 1 0 1 0 1 0 1]\n",
      " [1 0 1 0 1 0 1 0]\n",
      " [0 1 0 1 0 1 0 1]\n",
      " [1 0 1 0 1 0 1 0]]\n"
     ]
    }
   ],
   "source": [
    "import numpy as np\n",
    "\n",
    "# Create an 8x8 matrix filled with zeros\n",
    "matrix = np.zeros((8, 8), dtype=int)\n",
    "\n",
    "# Fill the checkerboard pattern with alternating 1s and 0s\n",
    "matrix[1::2, ::2] = 1  # Rows 2, 4, 6, 8 (0-based indexing) and even columns\n",
    "matrix[::2, 1::2] = 1  # Rows 1, 3, 5, 7 (0-based indexing) and odd columns\n",
    "\n",
    "print(matrix)\n"
   ]
  },
  {
   "cell_type": "code",
   "execution_count": 4,
   "id": "93fc17d8",
   "metadata": {},
   "outputs": [
    {
     "name": "stdout",
     "output_type": "stream",
     "text": [
      "Random Matrix:\n",
      "[[0.0865395  0.08880402 0.36545217 0.15614668 0.59199141]\n",
      " [0.15071065 0.80990425 0.39395149 0.0496444  0.11569293]\n",
      " [0.03768767 0.82897224 0.07974946 0.23842043 0.44665377]\n",
      " [0.3325143  0.69995833 0.35827308 0.22782453 0.00582276]\n",
      " [0.40067969 0.51758216 0.09089497 0.41042001 0.70083707]]\n",
      "\n",
      "Normalized Matrix:\n",
      "[[-0.9761785  -0.96700086  0.1541968  -0.69407499  1.07231347]\n",
      " [-0.71610609  1.95546911  0.26969865 -1.1257067  -0.85802567]\n",
      " [-1.17416485  2.0327477  -1.0036971  -0.36063654  0.48329011]\n",
      " [ 0.02070646  1.50988105  0.12510145 -0.40357952 -1.30330673]\n",
      " [ 0.29696667  0.77074818 -0.95852668  0.33644218  1.5134424 ]]\n"
     ]
    }
   ],
   "source": [
    "import numpy as np\n",
    "\n",
    "# Create a random 5x5 matrix\n",
    "random_matrix = np.random.rand(5, 5)\n",
    "\n",
    "# Calculate the mean and standard deviation of the matrix\n",
    "mean = random_matrix.mean()\n",
    "std_dev = random_matrix.std()\n",
    "\n",
    "# Normalize the matrix\n",
    "normalized_matrix = (random_matrix - mean) / std_dev\n",
    "\n",
    "print(\"Random Matrix:\")\n",
    "print(random_matrix)\n",
    "\n",
    "print(\"\\nNormalized Matrix:\")\n",
    "print(normalized_matrix)\n"
   ]
  },
  {
   "cell_type": "code",
   "execution_count": 5,
   "id": "d8110363",
   "metadata": {},
   "outputs": [
    {
     "name": "stdout",
     "output_type": "stream",
     "text": [
      "[3 4 5]\n"
     ]
    }
   ],
   "source": [
    "import numpy as np\n",
    "\n",
    "array1 = np.array([1, 2, 3, 4, 5])\n",
    "array2 = np.array([3, 4, 5, 6, 7])\n",
    "\n",
    "common_values = np.intersect1d(array1, array2)\n",
    "\n",
    "print(common_values)\n"
   ]
  },
  {
   "cell_type": "code",
   "execution_count": 6,
   "id": "5c5f18ee",
   "metadata": {},
   "outputs": [
    {
     "name": "stdout",
     "output_type": "stream",
     "text": [
      "Yesterday: 2023-09-20\n",
      "Today: 2023-09-21\n",
      "Tomorrow: 2023-09-22\n"
     ]
    }
   ],
   "source": [
    "import datetime\n",
    "\n",
    "# Get today's date\n",
    "today = datetime.date.today()\n",
    "\n",
    "# Calculate yesterday and tomorrow\n",
    "yesterday = today - datetime.timedelta(days=1)\n",
    "tomorrow = today + datetime.timedelta(days=1)\n",
    "\n",
    "# Format the dates as strings (optional)\n",
    "today_str = today.strftime('%Y-%m-%d')\n",
    "yesterday_str = yesterday.strftime('%Y-%m-%d')\n",
    "tomorrow_str = tomorrow.strftime('%Y-%m-%d')\n",
    "\n",
    "# Print the dates\n",
    "print(\"Yesterday:\", yesterday_str)\n",
    "print(\"Today:\", today_str)\n",
    "print(\"Tomorrow:\", tomorrow_str)\n"
   ]
  },
  {
   "cell_type": "code",
   "execution_count": 7,
   "id": "ead8ef63",
   "metadata": {},
   "outputs": [
    {
     "name": "stdout",
     "output_type": "stream",
     "text": [
      "Arrays A and B are not equal.\n"
     ]
    }
   ],
   "source": [
    "import numpy as np\n",
    "\n",
    "# Create two random arrays A and B (replace these with your actual arrays)\n",
    "A = np.random.rand(5, 5)\n",
    "B = np.random.rand(5, 5)\n",
    "\n",
    "# Check if arrays A and B are equal\n",
    "are_equal = np.array_equal(A, B)\n",
    "\n",
    "if are_equal:\n",
    "    print(\"Arrays A and B are equal.\")\n",
    "else:\n",
    "    print(\"Arrays A and B are not equal.\")\n"
   ]
  },
  {
   "cell_type": "code",
   "execution_count": 8,
   "id": "ac70f281",
   "metadata": {},
   "outputs": [
    {
     "name": "stdout",
     "output_type": "stream",
     "text": [
      "Random Vector with Maximum Value Replaced:\n",
      "[0.55581626 0.64849335 0.05195339 0.31017281 0.52417463 0.54319729\n",
      " 0.41195444 0.30912664 0.         0.27151654]\n"
     ]
    }
   ],
   "source": [
    "import numpy as np\n",
    "\n",
    "# Create a random vector of size 10\n",
    "random_vector = np.random.rand(10)\n",
    "\n",
    "# Find the index of the maximum value\n",
    "max_index = np.argmax(random_vector)\n",
    "\n",
    "# Replace the maximum value with 0\n",
    "random_vector[max_index] = 0\n",
    "\n",
    "print(\"Random Vector with Maximum Value Replaced:\")\n",
    "print(random_vector)\n"
   ]
  },
  {
   "cell_type": "code",
   "execution_count": 9,
   "id": "b38db3ce",
   "metadata": {},
   "outputs": [
    {
     "name": "stdout",
     "output_type": "stream",
     "text": [
      "1\n",
      "2\n",
      "3\n",
      "4\n",
      "5\n"
     ]
    }
   ],
   "source": [
    "import numpy as np\n",
    "\n",
    "my_array = np.array([1, 2, 3, 4, 5])\n",
    "\n",
    "for item in my_array:\n",
    "    print(item)\n"
   ]
  },
  {
   "cell_type": "code",
   "execution_count": 10,
   "id": "a2839c3b",
   "metadata": {},
   "outputs": [
    {
     "name": "stdout",
     "output_type": "stream",
     "text": [
      "Original Matrix:\n",
      "[[1 2 3]\n",
      " [4 5 6]\n",
      " [7 8 9]]\n",
      "\n",
      "Matrix with Row Means Subtracted:\n",
      "[[-1.  0.  1.]\n",
      " [-1.  0.  1.]\n",
      " [-1.  0.  1.]]\n"
     ]
    }
   ],
   "source": [
    "import numpy as np\n",
    "\n",
    "# Create a sample matrix (replace this with your actual matrix)\n",
    "matrix = np.array([[1, 2, 3],\n",
    "                  [4, 5, 6],\n",
    "                  [7, 8, 9]])\n",
    "\n",
    "# Calculate the mean of each row\n",
    "row_means = np.mean(matrix, axis=1, keepdims=True)\n",
    "\n",
    "# Subtract the row means from the original matrix\n",
    "normalized_matrix = matrix - row_means\n",
    "\n",
    "print(\"Original Matrix:\")\n",
    "print(matrix)\n",
    "\n",
    "print(\"\\nMatrix with Row Means Subtracted:\")\n",
    "print(normalized_matrix)\n"
   ]
  },
  {
   "cell_type": "code",
   "execution_count": 11,
   "id": "d648aafb",
   "metadata": {},
   "outputs": [
    {
     "name": "stdout",
     "output_type": "stream",
     "text": [
      "Original Vector:\n",
      "[1 3 4 5 6]\n"
     ]
    }
   ],
   "source": [
    "import numpy as np\n",
    "\n",
    "# Given vector\n",
    "original_vector = np.array([1, 2, 3, 4, 5])\n",
    "\n",
    "# Index vector (contains the indices where 1 should be added)\n",
    "index_vector = np.array([1, 3, 2, 1, 4])\n",
    "\n",
    "# Create a unique index vector to avoid repeated indices\n",
    "unique_indices, unique_counts = np.unique(index_vector, return_counts=True)\n",
    "\n",
    "# Add 1 to the corresponding elements in the original vector\n",
    "original_vector[unique_indices] += 1\n",
    "\n",
    "print(\"Original Vector:\")\n",
    "print(original_vector)\n"
   ]
  },
  {
   "cell_type": "code",
   "execution_count": 12,
   "id": "f49506b5",
   "metadata": {},
   "outputs": [
    {
     "name": "stdout",
     "output_type": "stream",
     "text": [
      "Dot Product:\n",
      "[[ 30  24  18]\n",
      " [ 84  69  54]\n",
      " [138 114  90]]\n",
      "\n",
      "Diagonal of Dot Product:\n",
      "[30 69 90]\n"
     ]
    }
   ],
   "source": [
    "import numpy as np\n",
    "\n",
    "# Create two matrices (replace these with your actual matrices)\n",
    "matrix1 = np.array([[1, 2, 3],\n",
    "                   [4, 5, 6],\n",
    "                   [7, 8, 9]])\n",
    "\n",
    "matrix2 = np.array([[9, 8, 7],\n",
    "                   [6, 5, 4],\n",
    "                   [3, 2, 1]])\n",
    "\n",
    "# Compute the dot product of the two matrices\n",
    "dot_product = np.dot(matrix1, matrix2)\n",
    "\n",
    "# Get the diagonal of the dot product\n",
    "diagonal = np.diag(dot_product)\n",
    "\n",
    "print(\"Dot Product:\")\n",
    "print(dot_product)\n",
    "\n",
    "print(\"\\nDiagonal of Dot Product:\")\n",
    "print(diagonal)\n"
   ]
  },
  {
   "cell_type": "code",
   "execution_count": 13,
   "id": "f77f46a3",
   "metadata": {},
   "outputs": [
    {
     "name": "stdout",
     "output_type": "stream",
     "text": [
      "Most Common Value: 1\n",
      "Count: 9\n"
     ]
    }
   ],
   "source": [
    "import numpy as np\n",
    "\n",
    "# Replace this with your actual NumPy array\n",
    "my_array = np.array([7, 4, 5, 3, 3, 6, 5, 8, 1, 5, 1, 1, 8, 7, 4, 5, 8, 7, 3, 2, 3, 6, 1, 5, 3, 3, 7, 5, 3, 8, 7, 1, 4, 1, 4, 1, 1, 1, 6, 6, 8, 6, 8, 3, 4, 4, 7, 8, 0])\n",
    "\n",
    "# Find the most common element (mode) using NumPy\n",
    "most_common_value = np.bincount(my_array).argmax()\n",
    "\n",
    "# Count the occurrences of the most common value\n",
    "most_common_count = np.sum(my_array == most_common_value)\n",
    "\n",
    "print(\"Most Common Value:\", most_common_value)\n",
    "print(\"Count:\", most_common_count)\n"
   ]
  },
  {
   "cell_type": "code",
   "execution_count": 14,
   "id": "0f043cd3",
   "metadata": {},
   "outputs": [
    {
     "ename": "NameError",
     "evalue": "name 'n' is not defined",
     "output_type": "error",
     "traceback": [
      "\u001b[1;31m---------------------------------------------------------------------------\u001b[0m",
      "\u001b[1;31mNameError\u001b[0m                                 Traceback (most recent call last)",
      "Cell \u001b[1;32mIn[14], line 10\u001b[0m\n\u001b[0;32m      7\u001b[0m sorted_indices \u001b[38;5;241m=\u001b[39m np\u001b[38;5;241m.\u001b[39margsort(my_array)[::\u001b[38;5;241m-\u001b[39m\u001b[38;5;241m1\u001b[39m]\n\u001b[0;32m      9\u001b[0m \u001b[38;5;66;03m# Get the n largest values by indexing the sorted array\u001b[39;00m\n\u001b[1;32m---> 10\u001b[0m n_largest \u001b[38;5;241m=\u001b[39m my_array[sorted_indices[:n]]\n\u001b[0;32m     12\u001b[0m \u001b[38;5;28mprint\u001b[39m(\u001b[38;5;124mf\u001b[39m\u001b[38;5;124m\"\u001b[39m\u001b[38;5;132;01m{\u001b[39;00mn\u001b[38;5;132;01m}\u001b[39;00m\u001b[38;5;124m Largest Values:\u001b[39m\u001b[38;5;124m\"\u001b[39m, n_largest)\n",
      "\u001b[1;31mNameError\u001b[0m: name 'n' is not defined"
     ]
    }
   ],
   "source": [
    "import numpy as np\n",
    "\n",
    "# Create a sample array (replace this with your actual array)\n",
    "my_array = np.array([7, 4, 5, 3, 6, 8, 1, 2, 9, 0])\n",
    "\n",
    "# Get the indices that would sort the array in descending order\n",
    "sorted_indices = np.argsort(my_array)[::-1]\n",
    "\n",
    "# Get the n largest values by indexing the sorted array\n",
    "n_largest = my_array[sorted_indices[:n]]\n",
    "\n",
    "print(f\"{n} Largest Values:\", n_largest)\n"
   ]
  },
  {
   "cell_type": "code",
   "execution_count": 15,
   "id": "f768e83e",
   "metadata": {},
   "outputs": [
    {
     "ename": "NameError",
     "evalue": "name 'n' is not defined",
     "output_type": "error",
     "traceback": [
      "\u001b[1;31m---------------------------------------------------------------------------\u001b[0m",
      "\u001b[1;31mNameError\u001b[0m                                 Traceback (most recent call last)",
      "Cell \u001b[1;32mIn[15], line 7\u001b[0m\n\u001b[0;32m      4\u001b[0m my_array \u001b[38;5;241m=\u001b[39m np\u001b[38;5;241m.\u001b[39marray([\u001b[38;5;241m7\u001b[39m, \u001b[38;5;241m4\u001b[39m, \u001b[38;5;241m5\u001b[39m, \u001b[38;5;241m3\u001b[39m, \u001b[38;5;241m6\u001b[39m, \u001b[38;5;241m8\u001b[39m, \u001b[38;5;241m1\u001b[39m, \u001b[38;5;241m2\u001b[39m, \u001b[38;5;241m9\u001b[39m, \u001b[38;5;241m0\u001b[39m])\n\u001b[0;32m      6\u001b[0m \u001b[38;5;66;03m# Get the n largest values using numpy.partition\u001b[39;00m\n\u001b[1;32m----> 7\u001b[0m n_largest \u001b[38;5;241m=\u001b[39m np\u001b[38;5;241m.\u001b[39mpartition(my_array, \u001b[38;5;241m-\u001b[39mn)[\u001b[38;5;241m-\u001b[39mn:]\n\u001b[0;32m      9\u001b[0m \u001b[38;5;28mprint\u001b[39m(\u001b[38;5;124mf\u001b[39m\u001b[38;5;124m\"\u001b[39m\u001b[38;5;132;01m{\u001b[39;00mn\u001b[38;5;132;01m}\u001b[39;00m\u001b[38;5;124m Largest Values:\u001b[39m\u001b[38;5;124m\"\u001b[39m, n_largest)\n",
      "\u001b[1;31mNameError\u001b[0m: name 'n' is not defined"
     ]
    }
   ],
   "source": [
    "import numpy as np\n",
    "\n",
    "# Create a sample array (replace this with your actual array)\n",
    "my_array = np.array([7, 4, 5, 3, 6, 8, 1, 2, 9, 0])\n",
    "\n",
    "# Get the n largest values using numpy.partition\n",
    "n_largest = np.partition(my_array, -n)[-n:]\n",
    "\n",
    "print(f\"{n} Largest Values:\", n_largest)\n"
   ]
  },
  {
   "cell_type": "code",
   "execution_count": 16,
   "id": "14ecd1e4",
   "metadata": {},
   "outputs": [
    {
     "name": "stdout",
     "output_type": "stream",
     "text": [
      "[(1, 'Alice', 25) (2, 'Bob', 30) (3, 'Charlie', 35)]\n"
     ]
    }
   ],
   "source": [
    "#question 15\n",
    "import numpy as np\n",
    "\n",
    "# Create a regular array (list of tuples)\n",
    "regular_array = [(1, 'Alice', 25),\n",
    "                 (2, 'Bob', 30),\n",
    "                 (3, 'Charlie', 35)]\n",
    "\n",
    "# Define the data type for the record array\n",
    "dtype = [('ID', int), ('Name', 'U10'), ('Age', int)]\n",
    "\n",
    "# Create the record array\n",
    "record_array = np.array(regular_array, dtype=dtype)\n",
    "\n",
    "print(record_array)\n"
   ]
  },
  {
   "cell_type": "code",
   "execution_count": 17,
   "id": "87edf71e",
   "metadata": {},
   "outputs": [
    {
     "name": "stdout",
     "output_type": "stream",
     "text": [
      "Array after swapping rows:\n",
      "[[1 2 3]\n",
      " [7 8 9]\n",
      " [4 5 6]]\n"
     ]
    }
   ],
   "source": [
    "import numpy as np\n",
    "\n",
    "# Create a sample 2D array (replace this with your actual array)\n",
    "array = np.array([[1, 2, 3],\n",
    "                  [4, 5, 6],\n",
    "                  [7, 8, 9]])\n",
    "\n",
    "# Swap rows 1 and 2 (0-based indexing)\n",
    "array[1], array[2] = array[2].copy(), array[1].copy()\n",
    "\n",
    "print(\"Array after swapping rows:\")\n",
    "print(array)\n"
   ]
  },
  {
   "cell_type": "code",
   "execution_count": 18,
   "id": "3d4c0233",
   "metadata": {},
   "outputs": [
    {
     "name": "stdout",
     "output_type": "stream",
     "text": [
      "Original 1D Array:\n",
      "[ 23   4 121  23  22  67 686 434 123]\n",
      "\n",
      "Reshaped 2D Array:\n",
      "[[ 23   4 121]\n",
      " [ 23  22  67]\n",
      " [686 434 123]]\n"
     ]
    }
   ],
   "source": [
    "import numpy as np\n",
    "\n",
    "# Create a 1D array (replace this with your actual array)\n",
    "arr = np.array([23, 4, 121, 23, 22, 67, 686, 434, 123])\n",
    "\n",
    "# Reshape the array to a 2D array with 3 rows and 3 columns\n",
    "reshaped_arr = arr.reshape(3, 3)\n",
    "\n",
    "# Alternatively, you can use numpy.newaxis\n",
    "# reshaped_arr = arr[:, np.newaxis]\n",
    "\n",
    "print(\"Original 1D Array:\")\n",
    "print(arr)\n",
    "\n",
    "print(\"\\nReshaped 2D Array:\")\n",
    "print(reshaped_arr)\n"
   ]
  },
  {
   "cell_type": "code",
   "execution_count": null,
   "id": "dbaec6b0",
   "metadata": {},
   "outputs": [],
   "source": []
  }
 ],
 "metadata": {
  "kernelspec": {
   "display_name": "Python 3 (ipykernel)",
   "language": "python",
   "name": "python3"
  },
  "language_info": {
   "codemirror_mode": {
    "name": "ipython",
    "version": 3
   },
   "file_extension": ".py",
   "mimetype": "text/x-python",
   "name": "python",
   "nbconvert_exporter": "python",
   "pygments_lexer": "ipython3",
   "version": "3.11.4"
  }
 },
 "nbformat": 4,
 "nbformat_minor": 5
}
