{
 "cells": [
  {
   "cell_type": "code",
   "execution_count": 2,
   "id": "15d3c6c2",
   "metadata": {},
   "outputs": [
    {
     "name": "stdout",
     "output_type": "stream",
     "text": [
      "Enter Physics marks: 100\n",
      "Enter Chemistry marks: 90\n",
      "Enter Biology marks: 80\n",
      "Enter Mathematics marks: 70\n",
      "Enter Computer marks: 60\n",
      "Total Marks: 400.0\n",
      "Percentage: 80.0%\n",
      "Grade: B\n"
     ]
    }
   ],
   "source": [
    "#question 1\n",
    "try:\n",
    "    physics = float(input(\"Enter Physics marks: \"))\n",
    "    chemistry = float(input(\"Enter Chemistry marks: \"))\n",
    "    biology = float(input(\"Enter Biology marks: \"))\n",
    "    mathematics = float(input(\"Enter Mathematics marks: \"))\n",
    "    computer = float(input(\"Enter Computer marks: \"))\n",
    "    total_marks = physics + chemistry + biology + mathematics + computer\n",
    "    percentage = (total_marks / 500) * 100\n",
    "    if percentage >= 90:\n",
    "        grade = \"A\"\n",
    "    elif percentage >= 80:\n",
    "        grade = \"B\"\n",
    "    elif percentage >= 70:\n",
    "        grade = \"C\"\n",
    "    elif percentage >= 60:\n",
    "        grade = \"D\"\n",
    "    elif percentage >= 40:\n",
    "        grade = \"E\"\n",
    "    else:\n",
    "        grade = \"F\"\n",
    "    print(f\"Total Marks: {total_marks}\")\n",
    "    print(f\"Percentage: {percentage}%\")\n",
    "    print(f\"Grade: {grade}\")\n",
    "\n",
    "except ValueError:\n",
    "    print(\"Invalid input! Please enter valid numeric marks for each subject.\")\n",
    "except Exception as e:\n",
    "    print(f\"An error occurred: {str(e)}\")\n"
   ]
  },
  {
   "cell_type": "code",
   "execution_count": 3,
   "id": "8bef4664",
   "metadata": {},
   "outputs": [
    {
     "name": "stdout",
     "output_type": "stream",
     "text": [
      "Enter the electricity units consumed: 200\n",
      "Total Electricity Bill (including 20% surcharge): Rs. 192.00\n"
     ]
    }
   ],
   "source": [
    "#question 2\n",
    "try:\n",
    "    units = float(input(\"Enter the electricity units consumed: \"))\n",
    "    total_bill = 0.0\n",
    "    if units <= 50:\n",
    "        total_bill = units * 0.5\n",
    "    elif units <= 150:\n",
    "        total_bill = 50 * 0.5 + (units - 50) * 0.75\n",
    "    elif units <= 250:\n",
    "        total_bill = 50 * 0.5 + 100 * 0.75 + (units - 150) * 1.2\n",
    "    else:\n",
    "        total_bill = 50 * 0.5 + 100 * 0.75 + 100 * 1.2 + (units - 250) * 150\n",
    "    total_bill_with_surcharge = total_bill * 1.2\n",
    "    print(f\"Total Electricity Bill (including 20% surcharge): Rs. {total_bill_with_surcharge:.2f}\")\n",
    "\n",
    "except ValueError:\n",
    "    print(\"Invalid input! Please enter a valid numeric value for electricity units.\")\n",
    "except Exception as e:\n",
    "    print(f\"An error occurred: {str(e)}\")\n"
   ]
  },
  {
   "cell_type": "code",
   "execution_count": 4,
   "id": "03abbfe7",
   "metadata": {},
   "outputs": [
    {
     "name": "stdout",
     "output_type": "stream",
     "text": [
      "Enter the week number (1-52): 47\n",
      "Weekday for week 47: Monday\n"
     ]
    }
   ],
   "source": [
    "#question 3\n",
    "import datetime\n",
    "\n",
    "try:\n",
    "    week_number = int(input(\"Enter the week number (1-52): \"))\n",
    "    if week_number < 1 or week_number > 52:\n",
    "        print(\"Invalid input! Week number should be between 1 and 52.\")\n",
    "    else:\n",
    "        date = datetime.date.fromisocalendar(datetime.date.today().year, week_number, 1)\n",
    "        weekday_name = date.strftime(\"%A\")\n",
    "        print(f\"Weekday for week {week_number}: {weekday_name}\")\n",
    "\n",
    "except ValueError:\n",
    "    print(\"Invalid input! Please enter a valid numeric week number.\")\n",
    "except Exception as e:\n",
    "    print(f\"An error occurred: {str(e)}\")\n"
   ]
  },
  {
   "cell_type": "code",
   "execution_count": 5,
   "id": "f0b9da3e",
   "metadata": {},
   "outputs": [
    {
     "name": "stdout",
     "output_type": "stream",
     "text": [
      "This module is intended to be imported.\n"
     ]
    }
   ],
   "source": [
    "# question 4\n",
    "\n",
    "def count_words_in_file(file_path):\n",
    "    word_count = {}\n",
    "\n",
    "    try:\n",
    "        with open(file_path, 'r') as file:\n",
    "            text = file.read()\n",
    "            words = text.split()\n",
    "            \n",
    "            for word in words:\n",
    "                cleaned_word = word.strip('.,?!()[]{}\"\\'').lower()\n",
    "                \n",
    "                if cleaned_word:\n",
    "                    if cleaned_word in word_count:\n",
    "                        word_count[cleaned_word] += 1\n",
    "                    else:\n",
    "                        word_count[cleaned_word] = 1\n",
    "\n",
    "    except FileNotFoundError:\n",
    "        print(f\"File not found: {file_path}\")\n",
    "    \n",
    "    return word_count\n",
    "\n",
    "if __name__ == \"__main__\":\n",
    "    print(\"This module is intended to be imported.\")\n"
   ]
  },
  {
   "cell_type": "code",
   "execution_count": 7,
   "id": "8bb5d1c4",
   "metadata": {},
   "outputs": [
    {
     "name": "stdout",
     "output_type": "stream",
     "text": [
      "Most frequent words in 'lorem.txt':\n",
      "ut: 4 times\n",
      "quia: 4 times\n",
      "qui: 4 times\n",
      "sed: 3 times\n",
      "sit: 3 times\n",
      "voluptatem: 3 times\n",
      "et: 2 times\n",
      "enim: 2 times\n",
      "voluptas: 2 times\n",
      "aut: 2 times\n"
     ]
    }
   ],
   "source": [
    "#question5\n",
    "import sys\n",
    "from collections import Counter\n",
    "\n",
    "filename = \"lorem.txt\"\n",
    "\n",
    "try:\n",
    "    with open(filename, 'r') as file:\n",
    "        content = file.read().lower()\n",
    "\n",
    "        words = content.split()\n",
    "\n",
    "        word_counts = Counter(words)\n",
    "        sorted_words = sorted(word_counts.items(), key=lambda x: x[1], reverse=True)\n",
    "\n",
    "        num_words_to_print = min(10, len(sorted_words)) \n",
    "        print(f\"Most frequent words in '{filename}':\")\n",
    "        for word, count in sorted_words[:num_words_to_print]:\n",
    "            print(f\"{word}: {count} times\")\n",
    "\n",
    "except FileNotFoundError:\n",
    "    print(f\"Error: File '{filename}' not found.\")\n",
    "except Exception as e:\n",
    "    print(f\"An error occurred: {e}\")"
   ]
  },
  {
   "cell_type": "code",
   "execution_count": 4,
   "id": "9596884b",
   "metadata": {},
   "outputs": [
    {
     "name": "stdout",
     "output_type": "stream",
     "text": [
      "Error: Input file not found: -f\n"
     ]
    },
    {
     "ename": "AttributeError",
     "evalue": "'tuple' object has no attribute 'tb_frame'",
     "output_type": "error",
     "traceback": [
      "\u001b[1;31m---------------------------------------------------------------------------\u001b[0m",
      "\u001b[1;31mFileNotFoundError\u001b[0m                         Traceback (most recent call last)",
      "Cell \u001b[1;32mIn[4], line 6\u001b[0m, in \u001b[0;36mprocess_files\u001b[1;34m(input_file_path, output_file_path)\u001b[0m\n\u001b[0;32m      5\u001b[0m \u001b[38;5;28;01mtry\u001b[39;00m:\n\u001b[1;32m----> 6\u001b[0m     \u001b[38;5;28;01mwith\u001b[39;00m \u001b[38;5;28mopen\u001b[39m(input_file_path, \u001b[38;5;124m'\u001b[39m\u001b[38;5;124mr\u001b[39m\u001b[38;5;124m'\u001b[39m) \u001b[38;5;28;01mas\u001b[39;00m input_file:\n\u001b[0;32m      7\u001b[0m         content \u001b[38;5;241m=\u001b[39m input_file\u001b[38;5;241m.\u001b[39mread()\n",
      "File \u001b[1;32m~\\anaconda3\\Lib\\site-packages\\IPython\\core\\interactiveshell.py:284\u001b[0m, in \u001b[0;36m_modified_open\u001b[1;34m(file, *args, **kwargs)\u001b[0m\n\u001b[0;32m    278\u001b[0m     \u001b[38;5;28;01mraise\u001b[39;00m \u001b[38;5;167;01mValueError\u001b[39;00m(\n\u001b[0;32m    279\u001b[0m         \u001b[38;5;124mf\u001b[39m\u001b[38;5;124m\"\u001b[39m\u001b[38;5;124mIPython won\u001b[39m\u001b[38;5;124m'\u001b[39m\u001b[38;5;124mt let you open fd=\u001b[39m\u001b[38;5;132;01m{\u001b[39;00mfile\u001b[38;5;132;01m}\u001b[39;00m\u001b[38;5;124m by default \u001b[39m\u001b[38;5;124m\"\u001b[39m\n\u001b[0;32m    280\u001b[0m         \u001b[38;5;124m\"\u001b[39m\u001b[38;5;124mas it is likely to crash IPython. If you know what you are doing, \u001b[39m\u001b[38;5;124m\"\u001b[39m\n\u001b[0;32m    281\u001b[0m         \u001b[38;5;124m\"\u001b[39m\u001b[38;5;124myou can use builtins\u001b[39m\u001b[38;5;124m'\u001b[39m\u001b[38;5;124m open.\u001b[39m\u001b[38;5;124m\"\u001b[39m\n\u001b[0;32m    282\u001b[0m     )\n\u001b[1;32m--> 284\u001b[0m \u001b[38;5;28;01mreturn\u001b[39;00m io_open(file, \u001b[38;5;241m*\u001b[39margs, \u001b[38;5;241m*\u001b[39m\u001b[38;5;241m*\u001b[39mkwargs)\n",
      "\u001b[1;31mFileNotFoundError\u001b[0m: [Errno 2] No such file or directory: '-f'",
      "\nDuring handling of the above exception, another exception occurred:\n",
      "\u001b[1;31mSystemExit\u001b[0m                                Traceback (most recent call last)",
      "    \u001b[1;31m[... skipping hidden 1 frame]\u001b[0m\n",
      "Cell \u001b[1;32mIn[4], line 29\u001b[0m\n\u001b[0;32m     28\u001b[0m output_file_path \u001b[38;5;241m=\u001b[39m sys\u001b[38;5;241m.\u001b[39margv[\u001b[38;5;241m2\u001b[39m]\n\u001b[1;32m---> 29\u001b[0m process_files(input_file_path, output_file_path)\n",
      "Cell \u001b[1;32mIn[4], line 14\u001b[0m, in \u001b[0;36mprocess_files\u001b[1;34m(input_file_path, output_file_path)\u001b[0m\n\u001b[0;32m     13\u001b[0m     \u001b[38;5;28mprint\u001b[39m(\u001b[38;5;124mf\u001b[39m\u001b[38;5;124m\"\u001b[39m\u001b[38;5;124mError: Input file not found: \u001b[39m\u001b[38;5;132;01m{\u001b[39;00minput_file_path\u001b[38;5;132;01m}\u001b[39;00m\u001b[38;5;124m\"\u001b[39m)\n\u001b[1;32m---> 14\u001b[0m     sys\u001b[38;5;241m.\u001b[39mexit(\u001b[38;5;241m1\u001b[39m)\n\u001b[0;32m     15\u001b[0m \u001b[38;5;28;01mexcept\u001b[39;00m \u001b[38;5;167;01mPermissionError\u001b[39;00m:\n",
      "\u001b[1;31mSystemExit\u001b[0m: 1",
      "\nDuring handling of the above exception, another exception occurred:\n",
      "\u001b[1;31mAttributeError\u001b[0m                            Traceback (most recent call last)",
      "    \u001b[1;31m[... skipping hidden 1 frame]\u001b[0m\n",
      "File \u001b[1;32m~\\anaconda3\\Lib\\site-packages\\IPython\\core\\interactiveshell.py:2092\u001b[0m, in \u001b[0;36mInteractiveShell.showtraceback\u001b[1;34m(self, exc_tuple, filename, tb_offset, exception_only, running_compiled_code)\u001b[0m\n\u001b[0;32m   2089\u001b[0m \u001b[38;5;28;01mif\u001b[39;00m exception_only:\n\u001b[0;32m   2090\u001b[0m     stb \u001b[38;5;241m=\u001b[39m [\u001b[38;5;124m'\u001b[39m\u001b[38;5;124mAn exception has occurred, use \u001b[39m\u001b[38;5;124m%\u001b[39m\u001b[38;5;124mtb to see \u001b[39m\u001b[38;5;124m'\u001b[39m\n\u001b[0;32m   2091\u001b[0m            \u001b[38;5;124m'\u001b[39m\u001b[38;5;124mthe full traceback.\u001b[39m\u001b[38;5;130;01m\\n\u001b[39;00m\u001b[38;5;124m'\u001b[39m]\n\u001b[1;32m-> 2092\u001b[0m     stb\u001b[38;5;241m.\u001b[39mextend(\u001b[38;5;28mself\u001b[39m\u001b[38;5;241m.\u001b[39mInteractiveTB\u001b[38;5;241m.\u001b[39mget_exception_only(etype,\n\u001b[0;32m   2093\u001b[0m                                                      value))\n\u001b[0;32m   2094\u001b[0m \u001b[38;5;28;01melse\u001b[39;00m:\n\u001b[0;32m   2095\u001b[0m     \u001b[38;5;28;01mtry\u001b[39;00m:\n\u001b[0;32m   2096\u001b[0m         \u001b[38;5;66;03m# Exception classes can customise their traceback - we\u001b[39;00m\n\u001b[0;32m   2097\u001b[0m         \u001b[38;5;66;03m# use this in IPython.parallel for exceptions occurring\u001b[39;00m\n\u001b[0;32m   2098\u001b[0m         \u001b[38;5;66;03m# in the engines. This should return a list of strings.\u001b[39;00m\n",
      "File \u001b[1;32m~\\anaconda3\\Lib\\site-packages\\IPython\\core\\ultratb.py:644\u001b[0m, in \u001b[0;36mListTB.get_exception_only\u001b[1;34m(self, etype, value)\u001b[0m\n\u001b[0;32m    636\u001b[0m \u001b[38;5;28;01mdef\u001b[39;00m \u001b[38;5;21mget_exception_only\u001b[39m(\u001b[38;5;28mself\u001b[39m, etype, value):\n\u001b[0;32m    637\u001b[0m \u001b[38;5;250m    \u001b[39m\u001b[38;5;124;03m\"\"\"Only print the exception type and message, without a traceback.\u001b[39;00m\n\u001b[0;32m    638\u001b[0m \n\u001b[0;32m    639\u001b[0m \u001b[38;5;124;03m    Parameters\u001b[39;00m\n\u001b[1;32m   (...)\u001b[0m\n\u001b[0;32m    642\u001b[0m \u001b[38;5;124;03m    value : exception value\u001b[39;00m\n\u001b[0;32m    643\u001b[0m \u001b[38;5;124;03m    \"\"\"\u001b[39;00m\n\u001b[1;32m--> 644\u001b[0m     \u001b[38;5;28;01mreturn\u001b[39;00m ListTB\u001b[38;5;241m.\u001b[39mstructured_traceback(\u001b[38;5;28mself\u001b[39m, etype, value)\n",
      "File \u001b[1;32m~\\anaconda3\\Lib\\site-packages\\IPython\\core\\ultratb.py:511\u001b[0m, in \u001b[0;36mListTB.structured_traceback\u001b[1;34m(self, etype, evalue, etb, tb_offset, context)\u001b[0m\n\u001b[0;32m    508\u001b[0m     chained_exc_ids\u001b[38;5;241m.\u001b[39madd(\u001b[38;5;28mid\u001b[39m(exception[\u001b[38;5;241m1\u001b[39m]))\n\u001b[0;32m    509\u001b[0m     chained_exceptions_tb_offset \u001b[38;5;241m=\u001b[39m \u001b[38;5;241m0\u001b[39m\n\u001b[0;32m    510\u001b[0m     out_list \u001b[38;5;241m=\u001b[39m (\n\u001b[1;32m--> 511\u001b[0m         \u001b[38;5;28mself\u001b[39m\u001b[38;5;241m.\u001b[39mstructured_traceback(\n\u001b[0;32m    512\u001b[0m             etype, evalue, (etb, chained_exc_ids),\n\u001b[0;32m    513\u001b[0m             chained_exceptions_tb_offset, context)\n\u001b[0;32m    514\u001b[0m         \u001b[38;5;241m+\u001b[39m chained_exception_message\n\u001b[0;32m    515\u001b[0m         \u001b[38;5;241m+\u001b[39m out_list)\n\u001b[0;32m    517\u001b[0m \u001b[38;5;28;01mreturn\u001b[39;00m out_list\n",
      "File \u001b[1;32m~\\anaconda3\\Lib\\site-packages\\IPython\\core\\ultratb.py:1310\u001b[0m, in \u001b[0;36mAutoFormattedTB.structured_traceback\u001b[1;34m(self, etype, value, tb, tb_offset, number_of_lines_of_context)\u001b[0m\n\u001b[0;32m   1308\u001b[0m \u001b[38;5;28;01melse\u001b[39;00m:\n\u001b[0;32m   1309\u001b[0m     \u001b[38;5;28mself\u001b[39m\u001b[38;5;241m.\u001b[39mtb \u001b[38;5;241m=\u001b[39m tb\n\u001b[1;32m-> 1310\u001b[0m \u001b[38;5;28;01mreturn\u001b[39;00m FormattedTB\u001b[38;5;241m.\u001b[39mstructured_traceback(\n\u001b[0;32m   1311\u001b[0m     \u001b[38;5;28mself\u001b[39m, etype, value, tb, tb_offset, number_of_lines_of_context)\n",
      "File \u001b[1;32m~\\anaconda3\\Lib\\site-packages\\IPython\\core\\ultratb.py:1199\u001b[0m, in \u001b[0;36mFormattedTB.structured_traceback\u001b[1;34m(self, etype, value, tb, tb_offset, number_of_lines_of_context)\u001b[0m\n\u001b[0;32m   1196\u001b[0m mode \u001b[38;5;241m=\u001b[39m \u001b[38;5;28mself\u001b[39m\u001b[38;5;241m.\u001b[39mmode\n\u001b[0;32m   1197\u001b[0m \u001b[38;5;28;01mif\u001b[39;00m mode \u001b[38;5;129;01min\u001b[39;00m \u001b[38;5;28mself\u001b[39m\u001b[38;5;241m.\u001b[39mverbose_modes:\n\u001b[0;32m   1198\u001b[0m     \u001b[38;5;66;03m# Verbose modes need a full traceback\u001b[39;00m\n\u001b[1;32m-> 1199\u001b[0m     \u001b[38;5;28;01mreturn\u001b[39;00m VerboseTB\u001b[38;5;241m.\u001b[39mstructured_traceback(\n\u001b[0;32m   1200\u001b[0m         \u001b[38;5;28mself\u001b[39m, etype, value, tb, tb_offset, number_of_lines_of_context\n\u001b[0;32m   1201\u001b[0m     )\n\u001b[0;32m   1202\u001b[0m \u001b[38;5;28;01melif\u001b[39;00m mode \u001b[38;5;241m==\u001b[39m \u001b[38;5;124m'\u001b[39m\u001b[38;5;124mMinimal\u001b[39m\u001b[38;5;124m'\u001b[39m:\n\u001b[0;32m   1203\u001b[0m     \u001b[38;5;28;01mreturn\u001b[39;00m ListTB\u001b[38;5;241m.\u001b[39mget_exception_only(\u001b[38;5;28mself\u001b[39m, etype, value)\n",
      "File \u001b[1;32m~\\anaconda3\\Lib\\site-packages\\IPython\\core\\ultratb.py:1052\u001b[0m, in \u001b[0;36mVerboseTB.structured_traceback\u001b[1;34m(self, etype, evalue, etb, tb_offset, number_of_lines_of_context)\u001b[0m\n\u001b[0;32m   1043\u001b[0m \u001b[38;5;28;01mdef\u001b[39;00m \u001b[38;5;21mstructured_traceback\u001b[39m(\n\u001b[0;32m   1044\u001b[0m     \u001b[38;5;28mself\u001b[39m,\n\u001b[0;32m   1045\u001b[0m     etype: \u001b[38;5;28mtype\u001b[39m,\n\u001b[1;32m   (...)\u001b[0m\n\u001b[0;32m   1049\u001b[0m     number_of_lines_of_context: \u001b[38;5;28mint\u001b[39m \u001b[38;5;241m=\u001b[39m \u001b[38;5;241m5\u001b[39m,\n\u001b[0;32m   1050\u001b[0m ):\n\u001b[0;32m   1051\u001b[0m \u001b[38;5;250m    \u001b[39m\u001b[38;5;124;03m\"\"\"Return a nice text document describing the traceback.\"\"\"\u001b[39;00m\n\u001b[1;32m-> 1052\u001b[0m     formatted_exception \u001b[38;5;241m=\u001b[39m \u001b[38;5;28mself\u001b[39m\u001b[38;5;241m.\u001b[39mformat_exception_as_a_whole(etype, evalue, etb, number_of_lines_of_context,\n\u001b[0;32m   1053\u001b[0m                                                            tb_offset)\n\u001b[0;32m   1055\u001b[0m     colors \u001b[38;5;241m=\u001b[39m \u001b[38;5;28mself\u001b[39m\u001b[38;5;241m.\u001b[39mColors  \u001b[38;5;66;03m# just a shorthand + quicker name lookup\u001b[39;00m\n\u001b[0;32m   1056\u001b[0m     colorsnormal \u001b[38;5;241m=\u001b[39m colors\u001b[38;5;241m.\u001b[39mNormal  \u001b[38;5;66;03m# used a lot\u001b[39;00m\n",
      "File \u001b[1;32m~\\anaconda3\\Lib\\site-packages\\IPython\\core\\ultratb.py:953\u001b[0m, in \u001b[0;36mVerboseTB.format_exception_as_a_whole\u001b[1;34m(self, etype, evalue, etb, number_of_lines_of_context, tb_offset)\u001b[0m\n\u001b[0;32m    950\u001b[0m \u001b[38;5;28;01massert\u001b[39;00m \u001b[38;5;28misinstance\u001b[39m(tb_offset, \u001b[38;5;28mint\u001b[39m)\n\u001b[0;32m    951\u001b[0m head \u001b[38;5;241m=\u001b[39m \u001b[38;5;28mself\u001b[39m\u001b[38;5;241m.\u001b[39mprepare_header(etype, \u001b[38;5;28mself\u001b[39m\u001b[38;5;241m.\u001b[39mlong_header)\n\u001b[0;32m    952\u001b[0m records \u001b[38;5;241m=\u001b[39m (\n\u001b[1;32m--> 953\u001b[0m     \u001b[38;5;28mself\u001b[39m\u001b[38;5;241m.\u001b[39mget_records(etb, number_of_lines_of_context, tb_offset) \u001b[38;5;28;01mif\u001b[39;00m etb \u001b[38;5;28;01melse\u001b[39;00m []\n\u001b[0;32m    954\u001b[0m )\n\u001b[0;32m    956\u001b[0m frames \u001b[38;5;241m=\u001b[39m []\n\u001b[0;32m    957\u001b[0m skipped \u001b[38;5;241m=\u001b[39m \u001b[38;5;241m0\u001b[39m\n",
      "File \u001b[1;32m~\\anaconda3\\Lib\\site-packages\\IPython\\core\\ultratb.py:1021\u001b[0m, in \u001b[0;36mVerboseTB.get_records\u001b[1;34m(self, etb, number_of_lines_of_context, tb_offset)\u001b[0m\n\u001b[0;32m   1019\u001b[0m \u001b[38;5;28;01mwhile\u001b[39;00m cf \u001b[38;5;129;01mis\u001b[39;00m \u001b[38;5;129;01mnot\u001b[39;00m \u001b[38;5;28;01mNone\u001b[39;00m:\n\u001b[0;32m   1020\u001b[0m     \u001b[38;5;28;01mtry\u001b[39;00m:\n\u001b[1;32m-> 1021\u001b[0m         source_file \u001b[38;5;241m=\u001b[39m inspect\u001b[38;5;241m.\u001b[39mgetsourcefile(etb\u001b[38;5;241m.\u001b[39mtb_frame)\n\u001b[0;32m   1022\u001b[0m         lines, first \u001b[38;5;241m=\u001b[39m inspect\u001b[38;5;241m.\u001b[39mgetsourcelines(etb\u001b[38;5;241m.\u001b[39mtb_frame)\n\u001b[0;32m   1023\u001b[0m     \u001b[38;5;28;01mexcept\u001b[39;00m \u001b[38;5;167;01mOSError\u001b[39;00m:\n",
      "\u001b[1;31mAttributeError\u001b[0m: 'tuple' object has no attribute 'tb_frame'"
     ]
    }
   ],
   "source": [
    "#question6\n",
    "import sys\n",
    "\n",
    "def process_files(input_file_path, output_file_path):\n",
    "    try:\n",
    "        with open(input_file_path, 'r') as input_file:\n",
    "            content = input_file.read()\n",
    "\n",
    "        with open(output_file_path, 'w') as output_file:\n",
    "            output_file.write(content)\n",
    "\n",
    "    except FileNotFoundError:\n",
    "        print(f\"Error: Input file not found: {input_file_path}\")\n",
    "        sys.exit(1)\n",
    "    except PermissionError:\n",
    "        print(f\"Error: Permission denied to write to the output file: {output_file_path}\")\n",
    "        sys.exit(1)\n",
    "    except Exception as e:\n",
    "        print(f\"An error occurred: {str(e)}\")\n",
    "        sys.exit(1)\n",
    "\n",
    "if __name__ == \"__main__\":\n",
    "    if len(sys.argv) != 3:\n",
    "        print(\"Usage: python program.py <input_file_path> <output_file_path>\")\n",
    "        sys.exit(1)\n",
    "\n",
    "    input_file_path = sys.argv[1]\n",
    "    output_file_path = sys.argv[2]\n",
    "    process_files(input_file_path, output_file_path)\n"
   ]
  },
  {
   "cell_type": "code",
   "execution_count": null,
   "id": "b2d76e6c",
   "metadata": {},
   "outputs": [],
   "source": []
  }
 ],
 "metadata": {
  "kernelspec": {
   "display_name": "Python 3 (ipykernel)",
   "language": "python",
   "name": "python3"
  },
  "language_info": {
   "codemirror_mode": {
    "name": "ipython",
    "version": 3
   },
   "file_extension": ".py",
   "mimetype": "text/x-python",
   "name": "python",
   "nbconvert_exporter": "python",
   "pygments_lexer": "ipython3",
   "version": "3.11.4"
  }
 },
 "nbformat": 4,
 "nbformat_minor": 5
}
