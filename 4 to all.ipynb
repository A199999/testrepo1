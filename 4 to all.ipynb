{
 "cells": [
  {
   "cell_type": "code",
   "execution_count": 1,
   "id": "60d4c8ea",
   "metadata": {},
   "outputs": [
    {
     "name": "stdout",
     "output_type": "stream",
     "text": [
      "Element 1: 10\n",
      "Element 2: 50\n"
     ]
    }
   ],
   "source": [
    "tuple1 = (10, 50, 20, 40, 30)\n",
    "\n",
    "element1 = tuple1[0]  \n",
    "element2 = tuple1[1] \n",
    "\n",
    "print(\"Element 1:\", element1)\n",
    "print(\"Element 2:\", element2)\n"
   ]
  },
  {
   "cell_type": "code",
   "execution_count": 2,
   "id": "a7be8248",
   "metadata": {},
   "outputs": [
    {
     "name": "stdout",
     "output_type": "stream",
     "text": [
      "Length of tuple1: 5\n"
     ]
    }
   ],
   "source": [
    "tuple1 = (10, 50, 20, 40, 30)\n",
    "\n",
    "length = len(tuple1)\n",
    "\n",
    "print(\"Length of tuple1:\", length)\n"
   ]
  },
  {
   "cell_type": "code",
   "execution_count": 3,
   "id": "d08cee01",
   "metadata": {},
   "outputs": [
    {
     "name": "stdout",
     "output_type": "stream",
     "text": [
      "Minimum element in tuple1: 10\n"
     ]
    }
   ],
   "source": [
    "tuple1 = (10, 50, 20, 40, 30)\n",
    "\n",
    "min_element = min(tuple1)\n",
    "\n",
    "print(\"Minimum element in tuple1:\", min_element)\n"
   ]
  },
  {
   "cell_type": "code",
   "execution_count": 4,
   "id": "ce56bec5",
   "metadata": {},
   "outputs": [
    {
     "name": "stdout",
     "output_type": "stream",
     "text": [
      "Sum of elements in tuple1: 150\n"
     ]
    }
   ],
   "source": [
    "tuple1 = (10, 50, 20, 40, 30)\n",
    "\n",
    "total_sum = 0\n",
    "\n",
    "for element in tuple1:\n",
    "    total_sum += element\n",
    "\n",
    "print(\"Sum of elements in tuple1:\", total_sum)\n"
   ]
  },
  {
   "cell_type": "code",
   "execution_count": 5,
   "id": "23631bfe",
   "metadata": {},
   "outputs": [
    {
     "name": "stdout",
     "output_type": "stream",
     "text": [
      "First display: (10, 50, 20, 40, 30)\n",
      "Second display: (10, 50, 20, 40, 30)\n",
      "Third display: (10, 50, 20, 40, 30)\n"
     ]
    }
   ],
   "source": [
    "tuple1 = (10, 50, 20, 40, 30)\n",
    "\n",
    "print(\"First display:\", tuple1)\n",
    "print(\"Second display:\", tuple1)\n",
    "print(\"Third display:\", tuple1)\n"
   ]
  },
  {
   "cell_type": "code",
   "execution_count": 6,
   "id": "e05f89e6",
   "metadata": {},
   "outputs": [
    {
     "name": "stdout",
     "output_type": "stream",
     "text": [
      "Length of the string: 13\n"
     ]
    }
   ],
   "source": [
    "my_string = \"Hello, World!\"\n",
    "\n",
    "length = len(my_string)\n",
    "\n",
    "print(\"Length of the string:\", length)\n"
   ]
  },
  {
   "cell_type": "code",
   "execution_count": 7,
   "id": "6f74dfe2",
   "metadata": {},
   "outputs": [
    {
     "name": "stdout",
     "output_type": "stream",
     "text": [
      "Reversed string: World! Hello,\n"
     ]
    }
   ],
   "source": [
    "# 5.2\n",
    "my_string = \"Hello, World!\"\n",
    "\n",
    "words = my_string.split()\n",
    "\n",
    "reversed_words = words[::-1]\n",
    "\n",
    "reversed_string = \" \".join(reversed_words)\n",
    "\n",
    "print(\"Reversed string:\", reversed_string)\n"
   ]
  },
  {
   "cell_type": "code",
   "execution_count": 8,
   "id": "2a78fd7e",
   "metadata": {},
   "outputs": [
    {
     "name": "stdout",
     "output_type": "stream",
     "text": [
      "Hello, World!\n",
      "Hello, World!\n",
      "Hello, World!\n"
     ]
    }
   ],
   "source": [
    "# 5.3\n",
    "my_string = \"Hello, World!\"\n",
    "\n",
    "print(my_string)\n",
    "print(my_string)\n",
    "print(my_string)\n"
   ]
  },
  {
   "cell_type": "code",
   "execution_count": 9,
   "id": "a5e49758",
   "metadata": {},
   "outputs": [
    {
     "name": "stdout",
     "output_type": "stream",
     "text": [
      "Concatenated string: Hello, World!\n"
     ]
    }
   ],
   "source": [
    "# 5.4\n",
    "string1 = \"Hello, \"\n",
    "string2 = \"World!\"\n",
    "\n",
    "result = string1 + string2\n",
    "\n",
    "print(\"Concatenated string:\", result)\n"
   ]
  },
  {
   "cell_type": "code",
   "execution_count": 10,
   "id": "5c297eba",
   "metadata": {},
   "outputs": [
    {
     "name": "stdout",
     "output_type": "stream",
     "text": [
      "india\n"
     ]
    }
   ],
   "source": [
    "#5.5\n",
    "str1 = \"south india\"\n",
    "\n",
    "india_substring = str1[6:]\n",
    "\n",
    "print(india_substring)\n"
   ]
  },
  {
   "cell_type": "code",
   "execution_count": 11,
   "id": "a1f74178",
   "metadata": {},
   "outputs": [
    {
     "name": "stdout",
     "output_type": "stream",
     "text": [
      "{'name': 'John', 'age': 30, 'city': 'New York'}\n"
     ]
    }
   ],
   "source": [
    "# 6.1\n",
    "my_dict = {\n",
    "    \"name\": \"John\",\n",
    "    \"age\": 30,\n",
    "    \"city\": \"New York\"\n",
    "}\n",
    "\n",
    "print(my_dict)\n"
   ]
  },
  {
   "cell_type": "code",
   "execution_count": 12,
   "id": "61fd0af8",
   "metadata": {},
   "outputs": [
    {
     "name": "stdout",
     "output_type": "stream",
     "text": [
      "Name: John\n",
      "Age: 30\n",
      "City: New York\n",
      "Keys: dict_keys(['name', 'age', 'city'])\n"
     ]
    }
   ],
   "source": [
    "# 6.2\n",
    "my_dict = {\n",
    "    \"name\": \"John\",\n",
    "    \"age\": 30,\n",
    "    \"city\": \"New York\"\n",
    "}\n",
    "\n",
    "name = my_dict[\"name\"]\n",
    "age = my_dict[\"age\"]\n",
    "city = my_dict[\"city\"]\n",
    "\n",
    "print(\"Name:\", name)\n",
    "print(\"Age:\", age)\n",
    "print(\"City:\", city)\n",
    "\n",
    "keys = my_dict.keys()\n",
    "\n",
    "print(\"Keys:\", keys)\n"
   ]
  },
  {
   "cell_type": "code",
   "execution_count": 13,
   "id": "edd7143e",
   "metadata": {},
   "outputs": [
    {
     "name": "stdout",
     "output_type": "stream",
     "text": [
      "Updated Dictionary: {'name': 'John', 'age': 31, 'city': 'New York', 'country': 'USA'}\n"
     ]
    }
   ],
   "source": [
    "# 6.3\n",
    "my_dict = {\n",
    "    \"name\": \"John\",\n",
    "    \"age\": 30,\n",
    "    \"city\": \"New York\"\n",
    "}\n",
    "\n",
    "def update_dict(input_dict):\n",
    "    input_dict[\"country\"] = \"USA\"\n",
    "    \n",
    "    input_dict[\"age\"] = 31\n",
    "    \n",
    "    return input_dict\n",
    "\n",
    "updated_dict = update_dict(my_dict)\n",
    "\n",
    "print(\"Updated Dictionary:\", updated_dict)\n"
   ]
  },
  {
   "cell_type": "code",
   "execution_count": 14,
   "id": "dd048e60",
   "metadata": {},
   "outputs": [
    {
     "name": "stdout",
     "output_type": "stream",
     "text": [
      "Dictionary after clearing: {}\n"
     ]
    }
   ],
   "source": [
    "my_dict = {\n",
    "    \"name\": \"John\",\n",
    "    \"age\": 30,\n",
    "    \"city\": \"New York\"\n",
    "}\n",
    "\n",
    "my_dict.clear()\n",
    "\n",
    "print(\"Dictionary after clearing:\", my_dict)\n"
   ]
  },
  {
   "cell_type": "code",
   "execution_count": 15,
   "id": "08810ec9",
   "metadata": {},
   "outputs": [
    {
     "name": "stdout",
     "output_type": "stream",
     "text": [
      "Updated List: [1, 2, 10, 3, 4, 5]\n"
     ]
    }
   ],
   "source": [
    "#7\n",
    "my_list = [1, 2, 3, 4, 5]\n",
    "\n",
    "number_to_insert = 10\n",
    "\n",
    "position = 2 \n",
    "\n",
    "my_list.insert(position, number_to_insert)\n",
    "\n",
    "print(\"Updated List:\", my_list)\n"
   ]
  },
  {
   "cell_type": "code",
   "execution_count": 16,
   "id": "07d195fb",
   "metadata": {},
   "outputs": [
    {
     "name": "stdout",
     "output_type": "stream",
     "text": [
      "Updated List: [1, 2, 4, 5]\n"
     ]
    }
   ],
   "source": [
    "#8\n",
    "my_list = [1, 2, 3, 4, 5]\n",
    "\n",
    "index_to_delete = 2\n",
    "\n",
    "del my_list[index_to_delete]\n",
    "\n",
    "print(\"Updated List:\", my_list)\n"
   ]
  },
  {
   "cell_type": "code",
   "execution_count": 17,
   "id": "c04a8c64",
   "metadata": {},
   "outputs": [
    {
     "name": "stdout",
     "output_type": "stream",
     "text": [
      "1\n",
      "2\n",
      "3\n",
      "4\n",
      "5\n",
      "6\n",
      "7\n",
      "8\n",
      "9\n",
      "10\n",
      "11\n",
      "12\n",
      "13\n",
      "14\n",
      "15\n",
      "16\n",
      "17\n",
      "18\n",
      "19\n",
      "20\n",
      "21\n",
      "22\n",
      "23\n",
      "24\n",
      "25\n",
      "26\n",
      "27\n",
      "28\n",
      "29\n",
      "30\n",
      "31\n",
      "32\n",
      "33\n",
      "34\n",
      "35\n",
      "36\n",
      "37\n",
      "38\n",
      "39\n",
      "40\n",
      "41\n",
      "42\n",
      "43\n",
      "44\n",
      "45\n",
      "46\n",
      "47\n",
      "48\n",
      "49\n",
      "50\n",
      "51\n",
      "52\n",
      "53\n",
      "54\n",
      "55\n",
      "56\n",
      "57\n",
      "58\n",
      "59\n",
      "60\n",
      "61\n",
      "62\n",
      "63\n",
      "64\n",
      "65\n",
      "66\n",
      "67\n",
      "68\n",
      "69\n",
      "70\n",
      "71\n",
      "72\n",
      "73\n",
      "74\n",
      "75\n",
      "76\n",
      "77\n",
      "78\n",
      "79\n",
      "80\n",
      "81\n",
      "82\n",
      "83\n",
      "84\n",
      "85\n",
      "86\n",
      "87\n",
      "88\n",
      "89\n",
      "90\n",
      "91\n",
      "92\n",
      "93\n",
      "94\n",
      "95\n",
      "96\n",
      "97\n",
      "98\n",
      "99\n",
      "100\n"
     ]
    }
   ],
   "source": [
    "# 9\n",
    "for number in range(1, 101):\n",
    "    print(number)\n"
   ]
  },
  {
   "cell_type": "code",
   "execution_count": 18,
   "id": "fd338e9a",
   "metadata": {},
   "outputs": [
    {
     "name": "stdout",
     "output_type": "stream",
     "text": [
      "Sum of all items in the tuple: 150\n"
     ]
    }
   ],
   "source": [
    "# 10\n",
    "my_tuple = (10, 20, 30, 40, 50)\n",
    "\n",
    "total_sum = 0\n",
    "\n",
    "for item in my_tuple:\n",
    "    total_sum += item\n",
    "\n",
    "print(\"Sum of all items in the tuple:\", total_sum)\n"
   ]
  },
  {
   "cell_type": "code",
   "execution_count": 19,
   "id": "d5f785cb",
   "metadata": {},
   "outputs": [
    {
     "name": "stdout",
     "output_type": "stream",
     "text": [
      "square of 4 is 16\n",
      "cube of 3 is 27\n",
      "square_root of 16 is 4.0\n",
      "Sum of all results: 47.0\n"
     ]
    }
   ],
   "source": [
    "# 11\n",
    "math_functions = {\n",
    "    'square': lambda x: x ** 2,\n",
    "    'cube': lambda x: x ** 3,\n",
    "    'square_root': lambda x: x ** 0.5\n",
    "}\n",
    "\n",
    "values = {\n",
    "    'square': 4,\n",
    "    'cube': 3,\n",
    "    'square_root': 16\n",
    "}\n",
    "\n",
    "total_result = 0\n",
    "\n",
    "for operation, value in values.items():\n",
    "    result = math_functions[operation](value)\n",
    "    total_result += result\n",
    "    print(f\"{operation} of {value} is {result}\")\n",
    "\n",
    "print(f\"Sum of all results: {total_result}\")\n"
   ]
  },
  {
   "cell_type": "code",
   "execution_count": 20,
   "id": "c7ddf647",
   "metadata": {},
   "outputs": [
    {
     "name": "stdout",
     "output_type": "stream",
     "text": [
      "Words with the second character in uppercase: []\n"
     ]
    }
   ],
   "source": [
    "# 12\n",
    "word_list = ['hello', 'Dear', 'how', 'are', 'you']\n",
    "\n",
    "result_words = []\n",
    "\n",
    "for word in word_list:\n",
    "    if len(word) > 1 and word[1].isupper():\n",
    "        result_words.append(word)\n",
    "\n",
    "print(\"Words with the second character in uppercase:\", result_words)\n"
   ]
  },
  {
   "cell_type": "code",
   "execution_count": 21,
   "id": "f1f62c75",
   "metadata": {},
   "outputs": [
    {
     "name": "stdout",
     "output_type": "stream",
     "text": [
      "Words with the second character in uppercase: ['hOw', 'ARe']\n"
     ]
    }
   ],
   "source": [
    "#12\n",
    "word_list = ['hello', 'Dear', 'hOw', 'ARe', 'You']\n",
    "\n",
    "result_words = []\n",
    "\n",
    "for word in word_list:\n",
    "    if len(word) > 1 and word[1].isupper():\n",
    "        result_words.append(word)\n",
    "\n",
    "print(\"Words with the second character in uppercase:\", result_words)\n"
   ]
  },
  {
   "cell_type": "code",
   "execution_count": 22,
   "id": "a5fc5374",
   "metadata": {},
   "outputs": [
    {
     "name": "stdout",
     "output_type": "stream",
     "text": [
      "The first 10 prime numbers are:\n",
      "2 3 5 7 11 13 17 19 23 29 "
     ]
    }
   ],
   "source": [
    "#control structure 1\n",
    "def is_prime(num):\n",
    "    if num <= 1:\n",
    "        return False\n",
    "    if num <= 3:\n",
    "        return True\n",
    "    if num % 2 == 0 or num % 3 == 0:\n",
    "        return False\n",
    "    i = 5\n",
    "    while i * i <= num:\n",
    "        if num % i == 0 or num % (i + 2) == 0:\n",
    "            return False\n",
    "        i += 6\n",
    "    return True\n",
    "\n",
    "def generate_primes(N):\n",
    "    primes = []\n",
    "    num = 2\n",
    "    while len(primes) < N:\n",
    "        if is_prime(num):\n",
    "            primes.append(num)\n",
    "        num += 1\n",
    "    return primes\n",
    "\n",
    "N = 10\n",
    "\n",
    "prime_numbers = generate_primes(N)\n",
    "\n",
    "print(f\"The first {N} prime numbers are:\")\n",
    "for prime in prime_numbers:\n",
    "    print(prime, end=\" \")\n"
   ]
  },
  {
   "cell_type": "code",
   "execution_count": 23,
   "id": "e498298f",
   "metadata": {},
   "outputs": [
    {
     "name": "stdout",
     "output_type": "stream",
     "text": [
      "Enter Basic Salary: 20000\n",
      "Enter HRA: 2000\n",
      "Enter TA: 5000\n",
      "Enter DA: 1200\n",
      "Gross Salary: 28200.0\n",
      "Tax Deducted (10% of Gross Salary): 2820.0\n",
      "Net Salary (Gross Salary - Tax): 25380.0\n"
     ]
    }
   ],
   "source": [
    "# 2\n",
    "basic_salary = float(input(\"Enter Basic Salary: \"))\n",
    "hra = float(input(\"Enter HRA: \"))\n",
    "ta = float(input(\"Enter TA: \"))\n",
    "da = float(input(\"Enter DA: \"))\n",
    "\n",
    "gross_salary = basic_salary + hra + ta + da\n",
    "\n",
    "tax = 0.10 * gross_salary\n",
    "\n",
    "net_salary = gross_salary - tax\n",
    "\n",
    "print(\"Gross Salary:\", gross_salary)\n",
    "print(\"Tax Deducted (10% of Gross Salary):\", tax)\n",
    "print(\"Net Salary (Gross Salary - Tax):\", net_salary)\n"
   ]
  },
  {
   "cell_type": "code",
   "execution_count": 24,
   "id": "59c55989",
   "metadata": {},
   "outputs": [
    {
     "name": "stdout",
     "output_type": "stream",
     "text": [
      "'cherry' is found in the list.\n"
     ]
    }
   ],
   "source": [
    "# 3\n",
    "my_list = [\"apple\", \"banana\", \"cherry\", \"date\", \"fig\"]\n",
    "\n",
    "search_string = \"cherry\"\n",
    "\n",
    "found = False\n",
    "\n",
    "for item in my_list:\n",
    "    if item == search_string:\n",
    "        found = True\n",
    "        break\n",
    "if found:\n",
    "    print(f\"'{search_string}' is found in the list.\")\n",
    "else:\n",
    "    print(f\"'{search_string}' is not found in the list.\")\n"
   ]
  },
  {
   "cell_type": "code",
   "execution_count": 25,
   "id": "0ec4099f",
   "metadata": {},
   "outputs": [
    {
     "name": "stdout",
     "output_type": "stream",
     "text": [
      "Uppercase letters: 2\n",
      "Lowercase letters: 8\n"
     ]
    }
   ],
   "source": [
    "#4\n",
    "def count_upper_lower(string):\n",
    "    upper_count = 0\n",
    "    lower_count = 0\n",
    "\n",
    "    for char in string:\n",
    "        if char.isupper():\n",
    "            upper_count += 1\n",
    "        elif char.islower():\n",
    "            lower_count += 1\n",
    "\n",
    "    return upper_count, lower_count\n",
    "\n",
    "input_string = \"Hello World\"\n",
    "upper, lower = count_upper_lower(input_string)\n",
    "\n",
    "print(f\"Uppercase letters: {upper}\")\n",
    "print(f\"Lowercase letters: {lower}\")\n"
   ]
  },
  {
   "cell_type": "code",
   "execution_count": 26,
   "id": "52239c5f",
   "metadata": {},
   "outputs": [
    {
     "name": "stdout",
     "output_type": "stream",
     "text": [
      "Sum of even numbers: 312\n",
      "Sum of odd numbers: 325\n"
     ]
    }
   ],
   "source": [
    "#5\n",
    "even_sum = 0\n",
    "odd_sum = 0\n",
    "for num in range(12, 38):\n",
    "    if num % 2 == 0: \n",
    "        even_sum += num\n",
    "    else: \n",
    "        odd_sum += num\n",
    "\n",
    "# Display the sums\n",
    "print(\"Sum of even numbers:\", even_sum)\n",
    "print(\"Sum of odd numbers:\", odd_sum)\n"
   ]
  },
  {
   "cell_type": "code",
   "execution_count": 27,
   "id": "afdaceee",
   "metadata": {},
   "outputs": [
    {
     "name": "stdout",
     "output_type": "stream",
     "text": [
      "Enter the number for the table: 5\n",
      "Table of 5:\n",
      "5 x 1 = 5\n",
      "5 x 2 = 10\n",
      "5 x 3 = 15\n",
      "5 x 4 = 20\n",
      "5 x 5 = 25\n",
      "5 x 6 = 30\n",
      "5 x 7 = 35\n",
      "5 x 8 = 40\n",
      "5 x 9 = 45\n",
      "5 x 10 = 50\n"
     ]
    }
   ],
   "source": [
    "# 6\n",
    "num = int(input(\"Enter the number for the table: \"))\n",
    "\n",
    "start = 1\n",
    "end = 10\n",
    "\n",
    "print(f\"Table of {num}:\")\n",
    "for i in range(start, end + 1):\n",
    "    product = num * i\n",
    "    print(f\"{num} x {i} = {product}\")\n"
   ]
  },
  {
   "cell_type": "code",
   "execution_count": 28,
   "id": "3d3f5390",
   "metadata": {},
   "outputs": [
    {
     "name": "stdout",
     "output_type": "stream",
     "text": [
      "The sum of the first 10 prime numbers is: 129\n"
     ]
    }
   ],
   "source": [
    "#7\n",
    "def is_prime(num):\n",
    "    if num <= 1:\n",
    "        return False\n",
    "    if num <= 3:\n",
    "        return True\n",
    "    if num % 2 == 0 or num % 3 == 0:\n",
    "        return False\n",
    "    i = 5\n",
    "    while i * i <= num:\n",
    "        if num % i == 0 or num % (i + 2) == 0:\n",
    "            return False\n",
    "        i += 6\n",
    "    return True\n",
    "\n",
    "def sum_first_n_primes(n):\n",
    "    primes = []\n",
    "    num = 2\n",
    "    while len(primes) < n:\n",
    "        if is_prime(num):\n",
    "            primes.append(num)\n",
    "        num += 1\n",
    "    return sum(primes)\n",
    "n = 10\n",
    "result = sum_first_n_primes(n)\n",
    "print(f\"The sum of the first {n} prime numbers is: {result}\")\n"
   ]
  },
  {
   "cell_type": "code",
   "execution_count": 29,
   "id": "d9da42f5",
   "metadata": {},
   "outputs": [
    {
     "name": "stdout",
     "output_type": "stream",
     "text": [
      "Select an operation:\n",
      "1. Addition\n",
      "2. Subtraction\n",
      "3. Multiplication\n",
      "4. Division\n",
      "Enter choice (1/2/3/4): 2\n",
      "Enter first number: 12\n",
      "Enter second number: 4\n",
      "Subtraction of 12.0 and 4.0 is: 8.0\n"
     ]
    }
   ],
   "source": [
    "#8\n",
    "print(\"Select an operation:\")\n",
    "print(\"1. Addition\")\n",
    "print(\"2. Subtraction\")\n",
    "print(\"3. Multiplication\")\n",
    "print(\"4. Division\")\n",
    "\n",
    "choice = input(\"Enter choice (1/2/3/4): \")\n",
    "choice = int(choice)\n",
    "\n",
    "if choice in (1, 2, 3, 4):\n",
    "    num1 = float(input(\"Enter first number: \"))\n",
    "    num2 = float(input(\"Enter second number: \"))\n",
    "\n",
    "    if choice == 1:\n",
    "        result = num1 + num2\n",
    "        operation = \"Addition\"\n",
    "    elif choice == 2:\n",
    "        result = num1 - num2\n",
    "        operation = \"Subtraction\"\n",
    "    elif choice == 3:\n",
    "        result = num1 * num2\n",
    "        operation = \"Multiplication\"\n",
    "    else:\n",
    "        if num2 != 0:\n",
    "            result = num1 / num2\n",
    "            operation = \"Division\"\n",
    "        else:\n",
    "            result = \"Undefined (Division by zero)\"\n",
    "            operation = \"Division\"\n",
    "\n",
    "    print(f\"{operation} of {num1} and {num2} is: {result}\")\n",
    "else:\n",
    "    print(\"Invalid choice. Please select a valid operation (1/2/3/4).\")\n"
   ]
  },
  {
   "cell_type": "code",
   "execution_count": 30,
   "id": "245833f2",
   "metadata": {},
   "outputs": [
    {
     "name": "stdout",
     "output_type": "stream",
     "text": [
      "Enter temperature in Celsius: 35\n",
      "35.0 degrees Celsius is equal to 95.0 degrees Fahrenheit\n"
     ]
    }
   ],
   "source": [
    "#9\n",
    "celsius = float(input(\"Enter temperature in Celsius: \"))\n",
    "\n",
    "fahrenheit = (celsius * 9/5) + 32\n",
    "\n",
    "print(f\"{celsius} degrees Celsius is equal to {fahrenheit} degrees Fahrenheit\")\n"
   ]
  },
  {
   "cell_type": "code",
   "execution_count": 31,
   "id": "3caa4c30",
   "metadata": {},
   "outputs": [
    {
     "name": "stdout",
     "output_type": "stream",
     "text": [
      "Maximum Value: 89\n",
      "Minimum Value: 2\n"
     ]
    }
   ],
   "source": [
    "# 10\n",
    "my_list = [12, 45, 6, 78, 23, 56, 89, 2, 41]\n",
    "\n",
    "max_value = my_list[0]  \n",
    "min_value = my_list[0]  \n",
    "for num in my_list:\n",
    "    if num > max_value:\n",
    "        max_value = num  \n",
    "    if num < min_value:\n",
    "        min_value = num  \n",
    "print(\"Maximum Value:\", max_value)\n",
    "print(\"Minimum Value:\", min_value)\n"
   ]
  },
  {
   "cell_type": "code",
   "execution_count": 32,
   "id": "5a352446",
   "metadata": {},
   "outputs": [
    {
     "name": "stdout",
     "output_type": "stream",
     "text": [
      "Number of seconds in a 30-day month: 2592000 seconds\n"
     ]
    }
   ],
   "source": [
    "# 11\n",
    "days_in_month = 30\n",
    "\n",
    "hours_per_day = 24\n",
    "minutes_per_hour = 60\n",
    "seconds_per_minute = 60\n",
    "\n",
    "total_seconds = days_in_month * hours_per_day * minutes_per_hour * seconds_per_minute\n",
    "\n",
    "print(f\"Number of seconds in a {days_in_month}-day month: {total_seconds} seconds\")\n"
   ]
  },
  {
   "cell_type": "code",
   "execution_count": 33,
   "id": "6549237f",
   "metadata": {},
   "outputs": [
    {
     "name": "stdout",
     "output_type": "stream",
     "text": [
      "Number of seconds in a year: 2814307200 seconds\n"
     ]
    }
   ],
   "source": [
    "#12\n",
    "days_in_year = 365\n",
    "hours_per_day = 24\n",
    "minutes_per_hour = 60\n",
    "seconds_per_minute = 60\n",
    "\n",
    "total_seconds_non_leap = days_in_year * hours_per_day * minutes_per_hour * seconds_per_minute\n",
    "\n",
    "leap_years = days_in_year // 4 - days_in_year // 100 + days_in_year // 400\n",
    "\n",
    "total_seconds_leap = (days_in_year + 1) * hours_per_day * minutes_per_hour * seconds_per_minute\n",
    "\n",
    "total_seconds_in_year = total_seconds_non_leap + leap_years * total_seconds_leap\n",
    "\n",
    "print(f\"Number of seconds in a year: {total_seconds_in_year} seconds\")\n"
   ]
  },
  {
   "cell_type": "code",
   "execution_count": 34,
   "id": "be1cec91",
   "metadata": {},
   "outputs": [
    {
     "name": "stdout",
     "output_type": "stream",
     "text": [
      "It will take 2.76 hours to travel from London to Glasgow.\n"
     ]
    }
   ],
   "source": [
    "# 13\n",
    "distance_miles = 414  \n",
    "speed_mph = 150       \n",
    "\n",
    "time_hours = distance_miles / speed_mph\n",
    "\n",
    "print(f\"It will take {time_hours:.2f} hours to travel from London to Glasgow.\")\n"
   ]
  },
  {
   "cell_type": "code",
   "execution_count": 35,
   "id": "09c55e27",
   "metadata": {},
   "outputs": [
    {
     "name": "stdout",
     "output_type": "stream",
     "text": [
      "Total hours spent in school from Year 7 to Year 11: 5760 hours\n"
     ]
    }
   ],
   "source": [
    "#14\n",
    "days_in_each_school_year = 192\n",
    "\n",
    "school_years = [\"Year 7\", \"Year 8\", \"Year 9\", \"Year 10\", \"Year 11\"]\n",
    "\n",
    "total_hours = 0\n",
    "\n",
    "for year in school_years:\n",
    "    total_hours += days_in_each_school_year * 6\n",
    "\n",
    "print(f\"Total hours spent in school from Year 7 to Year 11: {total_hours} hours\")\n"
   ]
  },
  {
   "cell_type": "code",
   "execution_count": 36,
   "id": "bfe79d59",
   "metadata": {},
   "outputs": [
    {
     "name": "stdout",
     "output_type": "stream",
     "text": [
      "Enter Ram's age: 12\n",
      "Enter Sam's age: 16\n",
      "Enter Khan's age: 18\n",
      "The eldest among Ram, Sam, and Khan is Khan with age 18 years.\n",
      "The youngest among Ram, Sam, and Khan is Ram with age 12 years.\n"
     ]
    }
   ],
   "source": [
    "#15\n",
    "ram_age = int(input(\"Enter Ram's age: \"))\n",
    "sam_age = int(input(\"Enter Sam's age: \"))\n",
    "khan_age = int(input(\"Enter Khan's age: \"))\n",
    "\n",
    "eldest = max(ram_age, sam_age, khan_age)\n",
    "youngest = min(ram_age, sam_age, khan_age)\n",
    "\n",
    "if eldest == ram_age:\n",
    "    eldest_name = \"Ram\"\n",
    "elif eldest == sam_age:\n",
    "    eldest_name = \"Sam\"\n",
    "else:\n",
    "    eldest_name = \"Khan\"\n",
    "\n",
    "if youngest == ram_age:\n",
    "    youngest_name = \"Ram\"\n",
    "elif youngest == sam_age:\n",
    "    youngest_name = \"Sam\"\n",
    "else:\n",
    "    youngest_name = \"Khan\"\n",
    "\n",
    "print(f\"The eldest among Ram, Sam, and Khan is {eldest_name} with age {eldest} years.\")\n",
    "print(f\"The youngest among Ram, Sam, and Khan is {youngest_name} with age {youngest} years.\")\n"
   ]
  },
  {
   "cell_type": "code",
   "execution_count": 37,
   "id": "054f1d21",
   "metadata": {},
   "outputs": [
    {
     "name": "stdout",
     "output_type": "stream",
     "text": [
      "Rotated list (using slicing): [4, 5, 1, 2, 3]\n"
     ]
    }
   ],
   "source": [
    "#16\n",
    "def rotate_list_right_slicing(lst, n):\n",
    "    n = n % len(lst)\n",
    "    rotated_list = lst[-n:] + lst[:-n]\n",
    "    return rotated_list\n",
    "\n",
    "my_list = [1, 2, 3, 4, 5]\n",
    "\n",
    "n = 2\n",
    "rotated_list = rotate_list_right_slicing(my_list, n)\n",
    "print(\"Rotated list (using slicing):\", rotated_list)\n"
   ]
  },
  {
   "cell_type": "code",
   "execution_count": null,
   "id": "27ac60be",
   "metadata": {},
   "outputs": [],
   "source": []
  }
 ],
 "metadata": {
  "kernelspec": {
   "display_name": "Python 3 (ipykernel)",
   "language": "python",
   "name": "python3"
  },
  "language_info": {
   "codemirror_mode": {
    "name": "ipython",
    "version": 3
   },
   "file_extension": ".py",
   "mimetype": "text/x-python",
   "name": "python",
   "nbconvert_exporter": "python",
   "pygments_lexer": "ipython3",
   "version": "3.11.4"
  }
 },
 "nbformat": 4,
 "nbformat_minor": 5
}
