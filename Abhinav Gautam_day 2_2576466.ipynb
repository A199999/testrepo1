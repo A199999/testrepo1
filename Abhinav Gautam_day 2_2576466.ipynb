{
 "cells": [
  {
   "cell_type": "code",
   "execution_count": 2,
   "id": "48d0894d",
   "metadata": {},
   "outputs": [
    {
     "name": "stdout",
     "output_type": "stream",
     "text": [
      "Even numbers: [2, 4, 6, 8]\n",
      "Odd numbers: [1, 3, 5, 7, 9]\n"
     ]
    }
   ],
   "source": [
    "#1\n",
    "def separate_even_odd(numbers):\n",
    "    even_numbers = []\n",
    "    odd_numbers = []\n",
    "\n",
    "    for num in numbers:\n",
    "        if num % 2 == 0:\n",
    "            even_numbers.append(num)\n",
    "        else:\n",
    "            odd_numbers.append(num)\n",
    "\n",
    "    return even_numbers, odd_numbers\n",
    "\n",
    "numbers_list = [1, 2, 3, 4, 5, 6, 7, 8, 9]\n",
    "even, odd = separate_even_odd(numbers_list)\n",
    "\n",
    "print(\"Even numbers:\", even)\n",
    "print(\"Odd numbers:\", odd)\n"
   ]
  },
  {
   "cell_type": "code",
   "execution_count": 3,
   "id": "c16f16f4",
   "metadata": {},
   "outputs": [
    {
     "name": "stdout",
     "output_type": "stream",
     "text": [
      "Enter integer 1: 2\n",
      "Enter integer 2: 3\n",
      "Enter integer 3: 4\n",
      "Enter integer 4: 5\n",
      "Enter integer 5: 6\n",
      "Enter integer 6: 1\n",
      "Enter integer 7: 7\n",
      "Enter integer 8: 8\n",
      "Number of even integers: 4\n"
     ]
    }
   ],
   "source": [
    "# 2\n",
    "even_count = 0\n",
    "\n",
    "for i in range(8):\n",
    "    try:\n",
    "        user_input = int(input(f\"Enter integer {i + 1}: \"))\n",
    "        if user_input % 2 == 0:\n",
    "            even_count += 1\n",
    "    except ValueError:\n",
    "        print(\"Invalid input. Please enter an integer.\")\n",
    "print(f\"Number of even integers: {even_count}\")\n"
   ]
  },
  {
   "cell_type": "code",
   "execution_count": 4,
   "id": "7a8ce897",
   "metadata": {},
   "outputs": [
    {
     "name": "stdout",
     "output_type": "stream",
     "text": [
      "Enter a positive integer: 2\n",
      "Collatz sequence for 2 is: [2, 1]\n"
     ]
    }
   ],
   "source": [
    "#3\n",
    "def collatz_sequence(n):\n",
    "    sequence = [n]\n",
    "\n",
    "    while n != 1:\n",
    "        if n % 2 == 0:\n",
    "            n = n // 2\n",
    "        else:\n",
    "            n = 3 * n + 1\n",
    "        sequence.append(n)\n",
    "\n",
    "    return sequence\n",
    "\n",
    "try:\n",
    "    n = int(input(\"Enter a positive integer: \"))\n",
    "    if n <= 0:\n",
    "        print(\"Please enter a positive integer.\")\n",
    "    else:\n",
    "        sequence = collatz_sequence(n)\n",
    "        print(\"Collatz sequence for\", n, \"is:\", sequence)\n",
    "except ValueError:\n",
    "    print(\"Invalid input. Please enter a positive integer.\")\n"
   ]
  },
  {
   "cell_type": "code",
   "execution_count": 5,
   "id": "5af7198a",
   "metadata": {},
   "outputs": [
    {
     "name": "stdout",
     "output_type": "stream",
     "text": [
      "The sum of all multiples of 3 or 5 below 500 is: 57918\n"
     ]
    }
   ],
   "source": [
    "# 4\n",
    "total_sum = 0\n",
    "for num in range(1, 500):\n",
    "    if num % 3 == 0 or num % 5 == 0:\n",
    "        total_sum += num\n",
    "\n",
    "print(\"The sum of all multiples of 3 or 5 below 500 is:\", total_sum)\n"
   ]
  },
  {
   "cell_type": "code",
   "execution_count": 6,
   "id": "88236def",
   "metadata": {},
   "outputs": [
    {
     "name": "stdout",
     "output_type": "stream",
     "text": [
      "The first 5 prime numbers from the list are: [2, 3, 5, 7, 11]\n"
     ]
    }
   ],
   "source": [
    "#5\n",
    "def is_prime(num):\n",
    "    if num <= 1:\n",
    "        return False\n",
    "    if num <= 3:\n",
    "        return True\n",
    "    if num % 2 == 0 or num % 3 == 0:\n",
    "        return False\n",
    "    i = 5\n",
    "    while i * i <= num:\n",
    "        if num % i == 0 or num % (i + 2) == 0:\n",
    "            return False\n",
    "        i += 6\n",
    "    return True\n",
    "\n",
    "def first_n_primes(numbers, n):\n",
    "    prime_numbers = []\n",
    "    for num in numbers:\n",
    "        if is_prime(num):\n",
    "            prime_numbers.append(num)\n",
    "            if len(prime_numbers) == n:\n",
    "                break\n",
    "    return prime_numbers\n",
    "number_list = [2, 3, 4, 5, 6, 7, 8, 9, 10, 11, 12]\n",
    "n = 5\n",
    "prime_result = first_n_primes(number_list, n)\n",
    "print(f\"The first {n} prime numbers from the list are: {prime_result}\")\n"
   ]
  },
  {
   "cell_type": "code",
   "execution_count": 7,
   "id": "bd4a8dd1",
   "metadata": {},
   "outputs": [
    {
     "ename": "IndexError",
     "evalue": "list index out of range",
     "output_type": "error",
     "traceback": [
      "\u001b[1;31m---------------------------------------------------------------------------\u001b[0m",
      "\u001b[1;31mIndexError\u001b[0m                                Traceback (most recent call last)",
      "Cell \u001b[1;32mIn[7], line 16\u001b[0m\n\u001b[0;32m     14\u001b[0m matrix_A \u001b[38;5;241m=\u001b[39m [[\u001b[38;5;241m1\u001b[39m, \u001b[38;5;241m2\u001b[39m, \u001b[38;5;241m3\u001b[39m], [\u001b[38;5;241m4\u001b[39m, \u001b[38;5;241m5\u001b[39m, \u001b[38;5;241m6\u001b[39m]]\n\u001b[0;32m     15\u001b[0m matrix_B \u001b[38;5;241m=\u001b[39m [[\u001b[38;5;241m7\u001b[39m, \u001b[38;5;241m8\u001b[39m], [\u001b[38;5;241m9\u001b[39m, \u001b[38;5;241m10\u001b[39m], [\u001b[38;5;241m11\u001b[39m, \u001b[38;5;241m12\u001b[39m]]\n\u001b[1;32m---> 16\u001b[0m result_matrix \u001b[38;5;241m=\u001b[39m matrix_multiply(matrix_A, matrix_B)\n\u001b[0;32m     17\u001b[0m \u001b[38;5;28;01mfor\u001b[39;00m row \u001b[38;5;129;01min\u001b[39;00m result_matrix:\n\u001b[0;32m     18\u001b[0m     \u001b[38;5;28mprint\u001b[39m(row)\n",
      "Cell \u001b[1;32mIn[7], line 11\u001b[0m, in \u001b[0;36mmatrix_multiply\u001b[1;34m(A, B)\u001b[0m\n\u001b[0;32m      9\u001b[0m     \u001b[38;5;28;01mfor\u001b[39;00m j \u001b[38;5;129;01min\u001b[39;00m \u001b[38;5;28mrange\u001b[39m(cols_B):\n\u001b[0;32m     10\u001b[0m         \u001b[38;5;28;01mfor\u001b[39;00m k \u001b[38;5;129;01min\u001b[39;00m \u001b[38;5;28mrange\u001b[39m(cols_A):\n\u001b[1;32m---> 11\u001b[0m             C[i][j] \u001b[38;5;241m+\u001b[39m\u001b[38;5;241m=\u001b[39m A[i][k] \u001b[38;5;241m*\u001b[39m B[k][j]\n\u001b[0;32m     13\u001b[0m \u001b[38;5;28;01mreturn\u001b[39;00m C\n",
      "\u001b[1;31mIndexError\u001b[0m: list index out of range"
     ]
    }
   ],
   "source": []
  },
  {
   "cell_type": "code",
   "execution_count": 8,
   "id": "fd415f8a",
   "metadata": {},
   "outputs": [
    {
     "ename": "IndexError",
     "evalue": "list index out of range",
     "output_type": "error",
     "traceback": [
      "\u001b[1;31m---------------------------------------------------------------------------\u001b[0m",
      "\u001b[1;31mIndexError\u001b[0m                                Traceback (most recent call last)",
      "Cell \u001b[1;32mIn[8], line 25\u001b[0m\n\u001b[0;32m     22\u001b[0m matrix_B \u001b[38;5;241m=\u001b[39m [[\u001b[38;5;241m7\u001b[39m, \u001b[38;5;241m8\u001b[39m], [\u001b[38;5;241m9\u001b[39m, \u001b[38;5;241m10\u001b[39m], [\u001b[38;5;241m11\u001b[39m, \u001b[38;5;241m12\u001b[39m]]\n\u001b[0;32m     24\u001b[0m \u001b[38;5;66;03m# Compute the product matrix C\u001b[39;00m\n\u001b[1;32m---> 25\u001b[0m result_matrix \u001b[38;5;241m=\u001b[39m matrix_multiply(matrix_A, matrix_B)\n\u001b[0;32m     27\u001b[0m \u001b[38;5;66;03m# Print the result\u001b[39;00m\n\u001b[0;32m     28\u001b[0m \u001b[38;5;28;01mfor\u001b[39;00m row \u001b[38;5;129;01min\u001b[39;00m result_matrix:\n",
      "Cell \u001b[1;32mIn[8], line 16\u001b[0m, in \u001b[0;36mmatrix_multiply\u001b[1;34m(A, B)\u001b[0m\n\u001b[0;32m     14\u001b[0m     \u001b[38;5;28;01mfor\u001b[39;00m j \u001b[38;5;129;01min\u001b[39;00m \u001b[38;5;28mrange\u001b[39m(cols_B):\n\u001b[0;32m     15\u001b[0m         \u001b[38;5;28;01mfor\u001b[39;00m k \u001b[38;5;129;01min\u001b[39;00m \u001b[38;5;28mrange\u001b[39m(cols_A):\n\u001b[1;32m---> 16\u001b[0m             C[i][j] \u001b[38;5;241m+\u001b[39m\u001b[38;5;241m=\u001b[39m A[i][k] \u001b[38;5;241m*\u001b[39m B[k][j]\n\u001b[0;32m     18\u001b[0m \u001b[38;5;28;01mreturn\u001b[39;00m C\n",
      "\u001b[1;31mIndexError\u001b[0m: list index out of range"
     ]
    }
   ],
   "source": []
  },
  {
   "cell_type": "code",
   "execution_count": 10,
   "id": "39646283",
   "metadata": {},
   "outputs": [
    {
     "name": "stdout",
     "output_type": "stream",
     "text": [
      "[58, 64]\n",
      "[139, 154]\n"
     ]
    }
   ],
   "source": [
    "# 6\n",
    "def matrix_multiply(A, B):\n",
    "    rows_A = len(A)\n",
    "    cols_A = len(A[0])\n",
    "    rows_B = len(B)\n",
    "    cols_B = len(B[0])\n",
    "    if cols_A != rows_B:\n",
    "        raise ValueError(\"Number of columns in matrix A must be equal to the number of rows in matrix B\")\n",
    "    C = [[0 for _ in range(cols_B)] for _ in range(rows_A)]\n",
    "    for i in range(rows_A):\n",
    "        for j in range(cols_B):\n",
    "            for k in range(cols_A):\n",
    "                C[i][j] += A[i][k] * B[k][j]\n",
    "\n",
    "    return C\n",
    "matrix_A = [\n",
    "    [1, 2, 3],\n",
    "    [4, 5, 6],\n",
    "]\n",
    "\n",
    "matrix_B = [\n",
    "    [7, 8],\n",
    "    [9, 10],\n",
    "    [11, 12],\n",
    "]\n",
    "result_matrix = matrix_multiply(matrix_A, matrix_B)\n",
    "for row in result_matrix:\n",
    "    print(row)\n"
   ]
  },
  {
   "cell_type": "code",
   "execution_count": 11,
   "id": "d89df4c6",
   "metadata": {},
   "outputs": [
    {
     "name": "stdout",
     "output_type": "stream",
     "text": [
      "Enter a string: 24\n",
      "Number of vowels in the string: 0\n"
     ]
    }
   ],
   "source": [
    "#7\n",
    "def count_vowels(input_string):\n",
    "    vowels = set(\"AEIOUaeiou\")\n",
    "    vowel_count = 0\n",
    "    for char in input_string:\n",
    "        if char in vowels:\n",
    "            vowel_count += 1\n",
    "            \n",
    "    return vowel_count\n",
    "input_string = input(\"Enter a string: \")\n",
    "vowel_count = count_vowels(input_string)\n",
    "print(\"Number of vowels in the string:\", vowel_count)\n"
   ]
  },
  {
   "cell_type": "code",
   "execution_count": 12,
   "id": "09929c6d",
   "metadata": {},
   "outputs": [
    {
     "name": "stdout",
     "output_type": "stream",
     "text": [
      "Enter a non-negative integer: 23\n",
      "The factorial of 23 is 25852016738884976640000\n"
     ]
    }
   ],
   "source": [
    "#8\n",
    "def factorial_recursive(n):\n",
    "    if n == 0:\n",
    "        return 1\n",
    "    else:\n",
    "        return n * factorial_recursive(n - 1)\n",
    "number = int(input(\"Enter a non-negative integer: \"))\n",
    "\n",
    "if number < 0:\n",
    "    print(\"Factorial is not defined for negative numbers.\")\n",
    "else:\n",
    "    result = factorial_recursive(number)\n",
    "    print(f\"The factorial of {number} is {result}\")\n"
   ]
  },
  {
   "cell_type": "code",
   "execution_count": 13,
   "id": "8e2ced77",
   "metadata": {},
   "outputs": [
    {
     "name": "stdout",
     "output_type": "stream",
     "text": [
      "Enter the number of Fibonacci terms to generate: 5\n",
      "Fibonacci series: [0, 1, 1, 2, 3]\n"
     ]
    }
   ],
   "source": [
    "#9\n",
    "def fibonacci(n):\n",
    "    if n <= 0:\n",
    "        return []\n",
    "    elif n == 1:\n",
    "        return [0]\n",
    "    elif n == 2:\n",
    "        return [0, 1]\n",
    "    else:\n",
    "        fib_series = fibonacci(n - 1)\n",
    "        fib_series.append(fib_series[-1] + fib_series[-2])\n",
    "        return fib_series\n",
    "n_terms = int(input(\"Enter the number of Fibonacci terms to generate: \"))\n",
    "\n",
    "if n_terms <= 0:\n",
    "    print(\"Please enter a positive integer.\")\n",
    "else:\n",
    "    fib_series = fibonacci(n_terms)\n",
    "    print(\"Fibonacci series:\", fib_series)\n"
   ]
  },
  {
   "cell_type": "code",
   "execution_count": 15,
   "id": "490bdfef",
   "metadata": {},
   "outputs": [
    {
     "name": "stdout",
     "output_type": "stream",
     "text": [
      "Enter an integer: 24\n",
      "Reversed integer: 42\n"
     ]
    }
   ],
   "source": [
    "#10\n",
    "def reverse_integer(n):\n",
    "    reversed_num = 0\n",
    "    is_negative = False\n",
    "    if n < 0:\n",
    "        is_negative = True\n",
    "        n = -n\n",
    "    while n > 0:\n",
    "        digit = n % 10\n",
    "        reversed_num = (reversed_num * 10) + digit\n",
    "        n = n // 10\n",
    "    if is_negative:\n",
    "        reversed_num = -reversed_num\n",
    "\n",
    "    return reversed_num\n",
    "num = int(input(\"Enter an integer: \"))\n",
    "reversed_num = reverse_integer(num)\n",
    "print(\"Reversed integer:\", reversed_num)\n"
   ]
  },
  {
   "cell_type": "code",
   "execution_count": 16,
   "id": "ff5063da",
   "metadata": {},
   "outputs": [
    {
     "name": "stdout",
     "output_type": "stream",
     "text": [
      "Integers in the range 200-300 with even digit sum:\n",
      "[200, 202, 204, 206, 208, 211, 213, 215, 217, 219, 220, 222, 224, 226, 228, 231, 233, 235, 237, 239, 240, 242, 244, 246, 248, 251, 253, 255, 257, 259, 260, 262, 264, 266, 268, 271, 273, 275, 277, 279, 280, 282, 284, 286, 288, 291, 293, 295, 297, 299]\n"
     ]
    }
   ],
   "source": [
    "#11\n",
    "def sum_of_digits_even(number):\n",
    "    digit_sum = sum(int(digit) for digit in str(number))\n",
    "    return digit_sum % 2 == 0\n",
    "\n",
    "def find_integers_with_even_digit_sum(start, end):\n",
    "    result = []\n",
    "    for num in range(start, end + 1):\n",
    "        if sum_of_digits_even(num):\n",
    "            result.append(num)\n",
    "    return result\n",
    "start_range = 200\n",
    "end_range = 300\n",
    "\n",
    "integers_with_even_digit_sum = find_integers_with_even_digit_sum(start_range, end_range)\n",
    "\n",
    "print(\"Integers in the range {}-{} with even digit sum:\".format(start_range, end_range))\n",
    "print(integers_with_even_digit_sum)\n"
   ]
  },
  {
   "cell_type": "code",
   "execution_count": 17,
   "id": "c278b3d9",
   "metadata": {},
   "outputs": [
    {
     "name": "stdout",
     "output_type": "stream",
     "text": [
      "Enter an integer: 25\n",
      "Number of digits: 2\n",
      "Sum of digits: 7\n"
     ]
    }
   ],
   "source": [
    "#12\n",
    "def count_digits_and_sum(number):\n",
    "    num_str = str(number)\n",
    "    num_digits = len(num_str)\n",
    "    digit_sum = sum(int(digit) for digit in num_str)\n",
    "    \n",
    "    return num_digits, digit_sum\n",
    "\n",
    "input_number = int(input(\"Enter an integer: \"))\n",
    "\n",
    "num_digits, digit_sum = count_digits_and_sum(input_number)\n",
    "\n",
    "print(\"Number of digits:\", num_digits)\n",
    "print(\"Sum of digits:\", digit_sum)\n",
    "\n"
   ]
  },
  {
   "cell_type": "code",
   "execution_count": 18,
   "id": "f560d136",
   "metadata": {},
   "outputs": [
    {
     "name": "stdout",
     "output_type": "stream",
     "text": [
      "is_sorted(sorted_list): True\n",
      "is_sorted(unsorted_list): False\n",
      "has_duplicates(sorted_list): False\n",
      "has_duplicates(list_with_duplicates): True\n"
     ]
    }
   ],
   "source": [
    "#13\n",
    "def is_sorted(input_list):\n",
    "    return all(input_list[i] <= input_list[i+1] for i in range(len(input_list)-1))\n",
    "\n",
    "def has_duplicates(input_list):\n",
    "    seen = set()\n",
    "    for item in input_list:\n",
    "        if item in seen:\n",
    "            return True\n",
    "        seen.add(item)\n",
    "    return False\n",
    "\n",
    "sorted_list = [1, 2, 3, 4, 5]\n",
    "unsorted_list = [5, 2, 1, 4, 3]\n",
    "list_with_duplicates = [1, 2, 2, 3, 4]\n",
    "\n",
    "print(\"is_sorted(sorted_list):\", is_sorted(sorted_list))\n",
    "print(\"is_sorted(unsorted_list):\", is_sorted(unsorted_list))\n",
    "print(\"has_duplicates(sorted_list):\", has_duplicates(sorted_list))\n",
    "print(\"has_duplicates(list_with_duplicates):\", has_duplicates(list_with_duplicates))\n"
   ]
  },
  {
   "cell_type": "code",
   "execution_count": 19,
   "id": "6b024955",
   "metadata": {},
   "outputs": [
    {
     "ename": "NameError",
     "evalue": "name 'nested_sum' is not defined",
     "output_type": "error",
     "traceback": [
      "\u001b[1;31m---------------------------------------------------------------------------\u001b[0m",
      "\u001b[1;31mNameError\u001b[0m                                 Traceback (most recent call last)",
      "Cell \u001b[1;32mIn[19], line 3\u001b[0m\n\u001b[0;32m      1\u001b[0m \u001b[38;5;66;03m# Example for nested_sum\u001b[39;00m\n\u001b[0;32m      2\u001b[0m nested_list \u001b[38;5;241m=\u001b[39m [[\u001b[38;5;241m1\u001b[39m, \u001b[38;5;241m2\u001b[39m, \u001b[38;5;241m3\u001b[39m], [\u001b[38;5;241m4\u001b[39m, \u001b[38;5;241m5\u001b[39m], [\u001b[38;5;241m6\u001b[39m, \u001b[38;5;241m7\u001b[39m, \u001b[38;5;241m8\u001b[39m]]\n\u001b[1;32m----> 3\u001b[0m result_nested_sum \u001b[38;5;241m=\u001b[39m nested_sum(nested_list)\n\u001b[0;32m      4\u001b[0m \u001b[38;5;28mprint\u001b[39m(\u001b[38;5;124m\"\u001b[39m\u001b[38;5;124mSum of elements from nested lists:\u001b[39m\u001b[38;5;124m\"\u001b[39m, result_nested_sum)\n\u001b[0;32m      6\u001b[0m \u001b[38;5;66;03m# Example for cumsum\u001b[39;00m\n",
      "\u001b[1;31mNameError\u001b[0m: name 'nested_sum' is not defined"
     ]
    }
   ],
   "source": []
  },
  {
   "cell_type": "code",
   "execution_count": 20,
   "id": "872a8d24",
   "metadata": {},
   "outputs": [
    {
     "name": "stdout",
     "output_type": "stream",
     "text": [
      "Sum of elements from nested lists: 36\n",
      "Cumulative sum of numbers: [1, 3, 6, 10, 15]\n"
     ]
    }
   ],
   "source": [
    "#14\n",
    "def nested_sum(nested_list):\n",
    "    total = 0\n",
    "    for sublist in nested_list:\n",
    "        total += sum(sublist)\n",
    "    return total\n",
    "\n",
    "def cumsum(numbers):\n",
    "    cumulative_sum = []\n",
    "    current_sum = 0\n",
    "    for num in numbers:\n",
    "        current_sum += num\n",
    "        cumulative_sum.append(current_sum)\n",
    "    return cumulative_sum\n",
    "nested_list = [[1, 2, 3], [4, 5], [6, 7, 8]]\n",
    "result_nested_sum = nested_sum(nested_list)\n",
    "print(\"Sum of elements from nested lists:\", result_nested_sum)\n",
    "\n",
    "numbers = [1, 2, 3, 4, 5]\n",
    "result_cumsum = cumsum(numbers)\n",
    "print(\"Cumulative sum of numbers:\", result_cumsum)\n"
   ]
  },
  {
   "cell_type": "code",
   "execution_count": null,
   "id": "a4e2019e",
   "metadata": {},
   "outputs": [],
   "source": []
  }
 ],
 "metadata": {
  "kernelspec": {
   "display_name": "Python 3 (ipykernel)",
   "language": "python",
   "name": "python3"
  },
  "language_info": {
   "codemirror_mode": {
    "name": "ipython",
    "version": 3
   },
   "file_extension": ".py",
   "mimetype": "text/x-python",
   "name": "python",
   "nbconvert_exporter": "python",
   "pygments_lexer": "ipython3",
   "version": "3.11.4"
  }
 },
 "nbformat": 4,
 "nbformat_minor": 5
}
